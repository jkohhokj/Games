{
 "cells": [
  {
   "cell_type": "code",
   "execution_count": 1,
   "metadata": {},
   "outputs": [],
   "source": [
    "def get_rand_word():\n",
    "    import urllib.request\n",
    "    import random\n",
    "    word_url = \"http://svnweb.freebsd.org/csrg/share/dict/words?view=co&content-type=text/plain\"\n",
    "    response = urllib.request.urlopen(word_url)\n",
    "    long_txt = response.read().decode()\n",
    "    words = long_txt.splitlines()\n",
    "    x = random.randint(1,10000)\n",
    "    word = words[x]\n",
    "    return word"
   ]
  },
  {
   "cell_type": "code",
   "execution_count": 2,
   "metadata": {},
   "outputs": [],
   "source": [
    "def board(word):\n",
    "    line = ''\n",
    "    for char in word:\n",
    "        line = line + ' _'\n",
    "    return line"
   ]
  },
  {
   "cell_type": "code",
   "execution_count": 3,
   "metadata": {},
   "outputs": [],
   "source": [
    "def tries_print(tries):\n",
    "    man = \"\"\n",
    "    if tries == 0:\n",
    "        return ''\n",
    "    if tries == 1:\n",
    "        man = \"   \\n|  |\"\n",
    "    if tries == 2:\n",
    "        man = \"  __\\n |__|\"\n",
    "    if tries == 3:\n",
    "        man = \" __\\n|__|\\n  |\"\n",
    "    if tries == 4:\n",
    "        man = \" __\\n|__|\\n  |\\n  |\"\n",
    "    if tries == 5:\n",
    "        man = \" __\\n|__|\\n _|__ \\n  |\"\n",
    "    if tries == 6:\n",
    "        man = \" __\\n|__|\\n\\_|__/\\n  |\"\n",
    "    if tries == 7:\n",
    "        man = \" __\\n|__|\\n\\_|__/\\n  |\\n /\"\n",
    "    if tries == 8:\n",
    "        man = \" __\\n|__|\\n\\_|__/\\n  |\\n /\\n/\"\n",
    "    if tries == 9:\n",
    "        print(\" __\\n|__|\\n\\_|__/\\n  |\\n /\\ \\n/  \")\n",
    "    if tries == 10:\n",
    "        print(\" __\\n|__|\\n\\_|__/\\n  |\\n /\\ \\n/  \\ \")\n",
    "    if tries == 11:\n",
    "        print(\" __\\n|`_`|\\n\\_|__/\\n  |\\n /\\ \\n/  \\ \")\n",
    "    if tries == 12:\n",
    "        print(\"  __\\nL|`_`| L\\n \\_|__/\\n   |\\n  /\\ \\n /  \\ \")\n",
    "    return man"
   ]
  },
  {
   "cell_type": "code",
   "execution_count": 4,
   "metadata": {},
   "outputs": [],
   "source": [
    "def hangman():\n",
    "    failed_tries = 0\n",
    "    failed_lets = []\n",
    "    word = get_rand_word()\n",
    "    line = board(word)\n",
    "    guessed_board = ' '*len(word)\n",
    "    print(line)\n",
    "    word_in_list = list(word)\n",
    "    word = ' '.join(word_in_list)\n",
    "    length = len(word_in_list)\n",
    "    guessed_board_list = list(guessed_board)\n",
    "    while failed_tries < 12 and guessed_board_list != word_in_list:\n",
    "        guessing = input('What letters do you want to guess?')\n",
    "        x = 0\n",
    "        guessed = 0   \n",
    "        while x < len(word_in_list):\n",
    "            if guessing == word_in_list[x]:\n",
    "                guessed_board_list[x] = word_in_list[x]\n",
    "                x += 1\n",
    "                guessed += 1\n",
    "            else:\n",
    "                x += 1\n",
    "        if guessed == 0:\n",
    "            failed_tries += 1\n",
    "            failed_lets.extend([guessing])\n",
    "        guessed_board = ' ' + ' '.join(guessed_board_list) \n",
    "        print(guessed_board)\n",
    "        print(line)\n",
    "        print('Wrong letters:' + '  '.join(failed_lets))\n",
    "        print(tries_print(failed_tries))\n",
    "    if failed_tries == 12:\n",
    "        print('You lose')\n",
    "        print(word)\n",
    "    elif guessed_board_list == word_in_list:\n",
    "        print('You win')\n",
    "        print(word)\n",
    "    else:\n",
    "        print('Error 404')\n"
   ]
  },
  {
   "cell_type": "code",
   "execution_count": null,
   "metadata": {},
   "outputs": [],
   "source": [
    "get_rand_word()"
   ]
  },
  {
   "cell_type": "code",
   "execution_count": null,
   "metadata": {},
   "outputs": [],
   "source": [
    "board('Chinese')"
   ]
  },
  {
   "cell_type": "code",
   "execution_count": null,
   "metadata": {},
   "outputs": [],
   "source": [
    "tries_print(3)"
   ]
  },
  {
   "cell_type": "code",
   "execution_count": 5,
   "metadata": {},
   "outputs": [
    {
     "name": "stdout",
     "output_type": "stream",
     "text": [
      " _ _ _ _ _ _ _ _ _\n",
      "What letters do you want to guess?a\n",
      "                  \n",
      " _ _ _ _ _ _ _ _ _\n",
      "Wrong letters:a\n",
      "   \n",
      "|  |\n",
      "What letters do you want to guess?e\n",
      "                 e\n",
      " _ _ _ _ _ _ _ _ _\n",
      "Wrong letters:a\n",
      "   \n",
      "|  |\n",
      "What letters do you want to guess?m\n",
      "                 e\n",
      " _ _ _ _ _ _ _ _ _\n",
      "Wrong letters:a  m\n",
      "  __\n",
      " |__|\n",
      "What letters do you want to guess?n\n",
      "                 e\n",
      " _ _ _ _ _ _ _ _ _\n",
      "Wrong letters:a  m  n\n",
      " __\n",
      "|__|\n",
      "  |\n",
      "What letters do you want to guess?l\n",
      "                 e\n",
      " _ _ _ _ _ _ _ _ _\n",
      "Wrong letters:a  m  n  l\n",
      " __\n",
      "|__|\n",
      "  |\n",
      "  |\n",
      "What letters do you want to guess?r\n",
      "   r           r e\n",
      " _ _ _ _ _ _ _ _ _\n",
      "Wrong letters:a  m  n  l\n",
      " __\n",
      "|__|\n",
      "  |\n",
      "  |\n",
      "What letters do you want to guess?d\n",
      "   r           r e\n",
      " _ _ _ _ _ _ _ _ _\n",
      "Wrong letters:a  m  n  l  d\n",
      " __\n",
      "|__|\n",
      " _|__ \n",
      "  |\n",
      "What letters do you want to guess?b\n",
      " b r           r e\n",
      " _ _ _ _ _ _ _ _ _\n",
      "Wrong letters:a  m  n  l  d\n",
      " __\n",
      "|__|\n",
      " _|__ \n",
      "  |\n",
      "What letters do you want to guess?i\n",
      " b r         i r e\n",
      " _ _ _ _ _ _ _ _ _\n",
      "Wrong letters:a  m  n  l  d\n",
      " __\n",
      "|__|\n",
      " _|__ \n",
      "  |\n",
      "What letters do you want to guess?o\n",
      " b r         i r e\n",
      " _ _ _ _ _ _ _ _ _\n",
      "Wrong letters:a  m  n  l  d  o\n",
      " __\n",
      "|__|\n",
      "\\_|__/\n",
      "  |\n",
      "What letters do you want to guess?u\n",
      " b r u       i r e\n",
      " _ _ _ _ _ _ _ _ _\n",
      "Wrong letters:a  m  n  l  d  o\n",
      " __\n",
      "|__|\n",
      "\\_|__/\n",
      "  |\n",
      "What letters do you want to guess?h\n",
      " b r u   h   i r e\n",
      " _ _ _ _ _ _ _ _ _\n",
      "Wrong letters:a  m  n  l  d  o\n",
      " __\n",
      "|__|\n",
      "\\_|__/\n",
      "  |\n",
      "What letters do you want to guess?s\n",
      " b r u s h   i r e\n",
      " _ _ _ _ _ _ _ _ _\n",
      "Wrong letters:a  m  n  l  d  o\n",
      " __\n",
      "|__|\n",
      "\\_|__/\n",
      "  |\n",
      "What letters do you want to guess?w\n",
      " b r u s h   i r e\n",
      " _ _ _ _ _ _ _ _ _\n",
      "Wrong letters:a  m  n  l  d  o  w\n",
      " __\n",
      "|__|\n",
      "\\_|__/\n",
      "  |\n",
      " /\n",
      "What letters do you want to guess?f\n",
      " b r u s h f i r e\n",
      " _ _ _ _ _ _ _ _ _\n",
      "Wrong letters:a  m  n  l  d  o  w\n",
      " __\n",
      "|__|\n",
      "\\_|__/\n",
      "  |\n",
      " /\n",
      "You win\n",
      "b r u s h f i r e\n"
     ]
    }
   ],
   "source": [
    "hangman()"
   ]
  },
  {
   "cell_type": "code",
   "execution_count": 1,
   "metadata": {},
   "outputs": [
    {
     "data": {
      "text/plain": [
       "'C:\\\\Users\\\\JaydenKoh\\\\Games'"
      ]
     },
     "execution_count": 1,
     "metadata": {},
     "output_type": "execute_result"
    }
   ],
   "source": [
    "pwd\n"
   ]
  },
  {
   "cell_type": "code",
   "execution_count": null,
   "metadata": {},
   "outputs": [],
   "source": []
  }
 ],
 "metadata": {
  "kernelspec": {
   "display_name": "Python 3",
   "language": "python",
   "name": "python3"
  },
  "language_info": {
   "codemirror_mode": {
    "name": "ipython",
    "version": 3
   },
   "file_extension": ".py",
   "mimetype": "text/x-python",
   "name": "python",
   "nbconvert_exporter": "python",
   "pygments_lexer": "ipython3",
   "version": "3.7.6"
  }
 },
 "nbformat": 4,
 "nbformat_minor": 4
}
