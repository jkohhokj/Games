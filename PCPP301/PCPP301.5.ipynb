{
 "cells": [
  {
   "cell_type": "code",
   "execution_count": 41,
   "metadata": {},
   "outputs": [],
   "source": [
    "import sqlite3\n",
    "conn = sqlite3.connect('todo.db')\n",
    "c = conn.cursor()\n",
    "c.execute('''CREATE TABLE IF NOT EXISTS tasks (\n",
    "id INTEGER PRIMARY KEY,\n",
    "name TEXT NOT NULL,\n",
    "priority INTEGER NOT NULL\n",
    ");''')\n",
    "c.execute('INSERT INTO tasks (name, priority) VALUES (?,?)', ('NAME1', 'PRIORITY1'))\n",
    "c.execute('INSERT INTO tasks (name, priority) VALUES (?,?)', ('NAME2', 'PRIORITY2'))\n",
    "conn.commit()"
   ]
  },
  {
   "cell_type": "code",
   "execution_count": 39,
   "metadata": {},
   "outputs": [
    {
     "name": "stdout",
     "output_type": "stream",
     "text": [
      "(1, 'NAME', 'PRIORITY')\n",
      "(2, 'NAME', 'PRIORITY')\n",
      "(3, 'NAME1', 'PRIORITY1')\n",
      "(4, 'NAME2', 'PRIORITY2')\n",
      "(5, 'NAME1', 'PRIORITY1')\n",
      "(6, 'NAME2', 'PRIORITY2')\n",
      "(7, 'NAME1', 'PRIORITY1')\n",
      "(8, 'NAME2', 'PRIORITY2')\n",
      "(9, 'NAME1', 'PRIORITY1')\n",
      "(10, 'NAME2', 'PRIORITY2')\n",
      "(11, 'NAME1', 'PRIORITY1')\n",
      "(12, 'NAME2', 'PRIORITY2')\n"
     ]
    }
   ],
   "source": [
    "for row in c.execute('SELECT * FROM tasks'):\n",
    "    print(row)"
   ]
  },
  {
   "cell_type": "code",
   "execution_count": 71,
   "metadata": {},
   "outputs": [],
   "source": [
    "import sqlite3\n",
    "connectObject = sqlite3.connect('SQLiteDB2.db')\n",
    "cursor = connectObject.cursor()\n",
    "cursor.execute('''CREATE TABLE IF NOT EXISTS myDB (\n",
    "id INTEGER PRIMARY KEY,\n",
    "name TEXT NOT NULL,\n",
    "labels INTEGER NOT NULL\n",
    ");''')\n",
    "labelednames = [('anothername','label2'),('last name','last label')]\n",
    "# cursor.executemany('INSERT INTO myDB (name,labels) VALUES (?,?)',labelednames)\n",
    "connectObject.commit()"
   ]
  },
  {
   "cell_type": "code",
   "execution_count": 80,
   "metadata": {},
   "outputs": [
    {
     "name": "stdout",
     "output_type": "stream",
     "text": [
      "\n",
      "\n",
      "\n",
      "[(1, 'myname', 'ssssssome'), (2, 'myname', 'somelabel'), (3, 'myname', 'somelabel'), (4, 'myname', 'somelabel'), (5, 'anothername', 'label2'), (6, 'last name', 'last label')]\n"
     ]
    }
   ],
   "source": [
    "# for row in cursor.execute('SELECT * FROM myDB '):\n",
    "#     print(row)\n",
    "# connectObject.close()\n",
    "cursor.execute(\"SELECT * FROM myDB;\")\n",
    "print('\\n\\n')\n",
    "row = cursor.fetchall()\n",
    "print(row)"
   ]
  },
  {
   "cell_type": "code",
   "execution_count": 36,
   "metadata": {},
   "outputs": [],
   "source": [
    "class thingstodo():\n",
    "    def __init__(self):\n",
    "        self.conn = sqlite3.connect('SQLiteDB')\n",
    "        self.myCursor = conn.cursor()\n",
    "        self.myCursor.execute('''CREATE TABLE IF NOT EXISTS test (\n",
    "        id INTEGER PRIMARY KEY,\n",
    "        name TEXT NOT NULL,\n",
    "        priority INTEGER NOT NULL\n",
    "        );''')\n",
    "\n",
    "    def addSet(self,name,priority):\n",
    "        if name != None and priority >= 1:\n",
    "            if self.find_task(name) == None:\n",
    "                self.myCursor.execute('INSERT INTO test (name, priority) VALUES (?,?)', (name, priority))\n",
    "                self.conn.commit()\n",
    "    def showTable(self,index=(None,None)):\n",
    "        for row in self.myCursor.execute('SELECT * FROM test'):\n",
    "            print(row[index[0]:index[1]])\n",
    "    def fetchall(self):\n",
    "        rows = self.myCursor.execute('SELECT * FROM test')\n",
    "        for row in rows:\n",
    "            print(row)\n",
    "    def find_task(self,task_name):\n",
    "        self.myCursor.execute('SELECT * FROM test')\n",
    "        row = ['NOT NULL','NOT NULL','NOT NULL']\n",
    "        while row != None:\n",
    "            row = self.myCursor.fetchone()\n",
    "            if row == None:\n",
    "                return None\n",
    "            elif row[1] == task_name:\n",
    "                return row\n",
    "        return None\n",
    "    def change_priority(self,priority_change,idcode):\n",
    "        self.myCursor.execute('UPDATE test SET priority = ? WHERE id = ?',(priority_change,idcode))\n",
    "        self.conn.commit()\n",
    "    def delete_task(self,taskid):\n",
    "        self.myCursor.execute('DELETE FROM test WHERE id = ?',(taskid,))\n",
    "        self.conn.commit()\n",
    "    def close(self):\n",
    "        self.myCursor.close()"
   ]
  },
  {
   "cell_type": "code",
   "execution_count": 37,
   "metadata": {},
   "outputs": [],
   "source": [
    "todolist = thingstodo()\n",
    "# todolist.addSet('chinese',1)\n",
    "todolist.fetchall()\n",
    "# todolist.showTable((None,None))\n",
    "# todolist.find_task('chinese')"
   ]
  },
  {
   "cell_type": "code",
   "execution_count": 38,
   "metadata": {},
   "outputs": [
    {
     "name": "stdout",
     "output_type": "stream",
     "text": [
      "\n",
      "\n",
      "\n"
     ]
    }
   ],
   "source": [
    "# print(todolist.myCursor.fetchall())\n",
    "rows = todolist.myCursor.fetchall()\n",
    "for row in rows:\n",
    "    print(row)\n",
    "print('\\n\\n')\n",
    "todolist.showTable([0,1])\n",
    "todolist.close()"
   ]
  },
  {
   "cell_type": "code",
   "execution_count": 281,
   "metadata": {},
   "outputs": [],
   "source": [
    "test = thingstodo()"
   ]
  },
  {
   "cell_type": "code",
   "execution_count": 274,
   "metadata": {},
   "outputs": [],
   "source": [
    "test.addSet('myThirdTask',5)"
   ]
  },
  {
   "cell_type": "code",
   "execution_count": 284,
   "metadata": {},
   "outputs": [],
   "source": [
    "test.showTable()"
   ]
  },
  {
   "cell_type": "code",
   "execution_count": 276,
   "metadata": {},
   "outputs": [],
   "source": [
    "test.addSet('mySecondTask',2)"
   ]
  },
  {
   "cell_type": "code",
   "execution_count": 203,
   "metadata": {},
   "outputs": [],
   "source": [
    "test.change_priority(3,1)"
   ]
  },
  {
   "cell_type": "code",
   "execution_count": 283,
   "metadata": {},
   "outputs": [],
   "source": [
    "test.delete_task(3)"
   ]
  },
  {
   "cell_type": "code",
   "execution_count": 449,
   "metadata": {},
   "outputs": [],
   "source": [
    "import xml.etree.ElementTree as ET\n",
    "class TemperatureConverter:\n",
    "    def __init__(self):\n",
    "        tree = ET.parse('C:\\\\Users\\\\JaydenKoh\\\\Data Models\\\\forecast.xml')\n",
    "        root = tree.getroot()\n",
    "    def celcius(self):\n",
    "        for item in root:\n",
    "            print(item[0].text,'was',item[1].text,'degrees Celcius')\n",
    "    def farenheit(self):\n",
    "        for item in root:\n",
    "            print(item[0].text,'was',int(item[1].text)*9/5+32,'degrees Farenheit')\n",
    "    def root_tag(self):\n",
    "        print(root.tag)\n",
    "    def everything(self):\n",
    "        for item in root:\n",
    "            print([(child.tag,child.text) for child in item])\n",
    "#             print(f'tag: {item.tag} \\ntext: {[child.text for child in item]} \\nattrib: {child.attrib[0] for child in item}')\n",
    "    def onlydays(self):\n",
    "        for day in root.iter('day'):\n",
    "            print(day.text)\n",
    "    def onlytemperatures(self):\n",
    "        for temperature in root.iter('temperature_in_celsius'):\n",
    "            print(temperature.text)\n",
    "    def changetemp(self):\n",
    "        for item in root:\n",
    "            for child in item:\n",
    "                child.text = 'monday'\n",
    "    def reset(self):\n",
    "        root = ET.fromstring('C:\\\\Users\\\\JaydenKoh\\\\Data Models\\\\forecast.xml')       \n",
    "instance = TemperatureConverter()"
   ]
  },
  {
   "cell_type": "code",
   "execution_count": 448,
   "metadata": {},
   "outputs": [
    {
     "name": "stdout",
     "output_type": "stream",
     "text": [
      "monday was monday degrees Celcius\n",
      "monday was monday degrees Celcius\n",
      "monday was monday degrees Celcius\n",
      "monday was monday degrees Celcius\n",
      "monday was monday degrees Celcius\n",
      "monday was monday degrees Celcius\n",
      "monday was monday degrees Celcius\n"
     ]
    }
   ],
   "source": [
    "instance.celcius()"
   ]
  },
  {
   "cell_type": "code",
   "execution_count": 122,
   "metadata": {
    "scrolled": false
   },
   "outputs": [
    {
     "ename": "TypeError",
     "evalue": "'NoneType' object is not iterable",
     "output_type": "error",
     "traceback": [
      "\u001b[1;31m---------------------------------------------------------------------------\u001b[0m",
      "\u001b[1;31mTypeError\u001b[0m                                 Traceback (most recent call last)",
      "\u001b[1;32m<ipython-input-122-a4490903cbaf>\u001b[0m in \u001b[0;36m<module>\u001b[1;34m\u001b[0m\n\u001b[0;32m      4\u001b[0m \u001b[1;31m# for item in root:\u001b[0m\u001b[1;33m\u001b[0m\u001b[1;33m\u001b[0m\u001b[1;33m\u001b[0m\u001b[0m\n\u001b[0;32m      5\u001b[0m \u001b[1;31m#     print(item[0].attrib['mood'])\u001b[0m\u001b[1;33m\u001b[0m\u001b[1;33m\u001b[0m\u001b[1;33m\u001b[0m\u001b[0m\n\u001b[1;32m----> 6\u001b[1;33m \u001b[1;32mfor\u001b[0m \u001b[0mitem\u001b[0m \u001b[1;32min\u001b[0m \u001b[0mroot\u001b[0m\u001b[1;33m.\u001b[0m\u001b[0mfindall\u001b[0m\u001b[1;33m(\u001b[0m\u001b[1;34m'item'\u001b[0m\u001b[1;33m)\u001b[0m\u001b[1;33m[\u001b[0m\u001b[1;36m0\u001b[0m\u001b[1;33m]\u001b[0m\u001b[1;33m.\u001b[0m\u001b[0mget\u001b[0m\u001b[1;33m(\u001b[0m\u001b[1;34m'mood'\u001b[0m\u001b[1;33m)\u001b[0m\u001b[1;33m:\u001b[0m\u001b[1;33m\u001b[0m\u001b[1;33m\u001b[0m\u001b[0m\n\u001b[0m\u001b[0;32m      7\u001b[0m     \u001b[0mprint\u001b[0m\u001b[1;33m(\u001b[0m\u001b[0mitem\u001b[0m\u001b[1;33m)\u001b[0m\u001b[1;33m\u001b[0m\u001b[1;33m\u001b[0m\u001b[0m\n",
      "\u001b[1;31mTypeError\u001b[0m: 'NoneType' object is not iterable"
     ]
    }
   ],
   "source": [
    "import xml.etree.ElementTree as ET\n",
    "tree = ET.parse('C:\\\\Users\\\\JaydenKoh\\\\Data models\\\\csv_and_txt\\\\forecast.xml')\n",
    "root = tree.getroot()\n",
    "# for item in root:\n",
    "#     print(item[0].attrib['mood'])\n",
    "for item in root.findall('item')[0].get('mood'):\n",
    "    print(item)\n"
   ]
  },
  {
   "cell_type": "code",
   "execution_count": 174,
   "metadata": {},
   "outputs": [
    {
     "data": {
      "text/plain": [
       "True"
      ]
     },
     "execution_count": 174,
     "metadata": {},
     "output_type": "execute_result"
    }
   ],
   "source": [
    ".99999999999999999 >= True"
   ]
  },
  {
   "cell_type": "code",
   "execution_count": 447,
   "metadata": {},
   "outputs": [
    {
     "ename": "ValueError",
     "evalue": "invalid literal for int() with base 10: 'monday'",
     "output_type": "error",
     "traceback": [
      "\u001b[1;31m---------------------------------------------------------------------------\u001b[0m",
      "\u001b[1;31mValueError\u001b[0m                                Traceback (most recent call last)",
      "\u001b[1;32m<ipython-input-447-ac9674c25c24>\u001b[0m in \u001b[0;36m<module>\u001b[1;34m\u001b[0m\n\u001b[1;32m----> 1\u001b[1;33m \u001b[0minstance\u001b[0m\u001b[1;33m.\u001b[0m\u001b[0mfarenheit\u001b[0m\u001b[1;33m(\u001b[0m\u001b[1;33m)\u001b[0m\u001b[1;33m\u001b[0m\u001b[1;33m\u001b[0m\u001b[0m\n\u001b[0m",
      "\u001b[1;32m<ipython-input-445-40d7a396534c>\u001b[0m in \u001b[0;36mfarenheit\u001b[1;34m(self)\u001b[0m\n\u001b[0;32m      9\u001b[0m     \u001b[1;32mdef\u001b[0m \u001b[0mfarenheit\u001b[0m\u001b[1;33m(\u001b[0m\u001b[0mself\u001b[0m\u001b[1;33m)\u001b[0m\u001b[1;33m:\u001b[0m\u001b[1;33m\u001b[0m\u001b[1;33m\u001b[0m\u001b[0m\n\u001b[0;32m     10\u001b[0m         \u001b[1;32mfor\u001b[0m \u001b[0mitem\u001b[0m \u001b[1;32min\u001b[0m \u001b[0mroot\u001b[0m\u001b[1;33m:\u001b[0m\u001b[1;33m\u001b[0m\u001b[1;33m\u001b[0m\u001b[0m\n\u001b[1;32m---> 11\u001b[1;33m             \u001b[0mprint\u001b[0m\u001b[1;33m(\u001b[0m\u001b[0mitem\u001b[0m\u001b[1;33m[\u001b[0m\u001b[1;36m0\u001b[0m\u001b[1;33m]\u001b[0m\u001b[1;33m.\u001b[0m\u001b[0mtext\u001b[0m\u001b[1;33m,\u001b[0m\u001b[1;34m'was'\u001b[0m\u001b[1;33m,\u001b[0m\u001b[0mint\u001b[0m\u001b[1;33m(\u001b[0m\u001b[0mitem\u001b[0m\u001b[1;33m[\u001b[0m\u001b[1;36m1\u001b[0m\u001b[1;33m]\u001b[0m\u001b[1;33m.\u001b[0m\u001b[0mtext\u001b[0m\u001b[1;33m)\u001b[0m\u001b[1;33m*\u001b[0m\u001b[1;36m9\u001b[0m\u001b[1;33m/\u001b[0m\u001b[1;36m5\u001b[0m\u001b[1;33m+\u001b[0m\u001b[1;36m32\u001b[0m\u001b[1;33m,\u001b[0m\u001b[1;34m'degrees Farenheit'\u001b[0m\u001b[1;33m)\u001b[0m\u001b[1;33m\u001b[0m\u001b[1;33m\u001b[0m\u001b[0m\n\u001b[0m\u001b[0;32m     12\u001b[0m     \u001b[1;32mdef\u001b[0m \u001b[0mroot_tag\u001b[0m\u001b[1;33m(\u001b[0m\u001b[0mself\u001b[0m\u001b[1;33m)\u001b[0m\u001b[1;33m:\u001b[0m\u001b[1;33m\u001b[0m\u001b[1;33m\u001b[0m\u001b[0m\n\u001b[0;32m     13\u001b[0m         \u001b[0mprint\u001b[0m\u001b[1;33m(\u001b[0m\u001b[0mroot\u001b[0m\u001b[1;33m.\u001b[0m\u001b[0mtag\u001b[0m\u001b[1;33m)\u001b[0m\u001b[1;33m\u001b[0m\u001b[1;33m\u001b[0m\u001b[0m\n",
      "\u001b[1;31mValueError\u001b[0m: invalid literal for int() with base 10: 'monday'"
     ]
    }
   ],
   "source": [
    "instance.farenheit()"
   ]
  },
  {
   "cell_type": "code",
   "execution_count": 382,
   "metadata": {},
   "outputs": [
    {
     "name": "stdout",
     "output_type": "stream",
     "text": [
      "data\n"
     ]
    }
   ],
   "source": [
    "instance.root_tag()"
   ]
  },
  {
   "cell_type": "code",
   "execution_count": 439,
   "metadata": {},
   "outputs": [
    {
     "name": "stdout",
     "output_type": "stream",
     "text": [
      "[('bob', 'bob'), ('bob', 'bob')]\n",
      "[('bob', 'bob'), ('bob', 'bob')]\n",
      "[('bob', 'bob'), ('bob', 'bob')]\n",
      "[('bob', 'bob'), ('bob', 'bob')]\n",
      "[('bob', 'bob'), ('bob', 'bob')]\n",
      "[('bob', 'bob'), ('bob', 'bob')]\n",
      "[('bob', 'bob'), ('bob', 'bob')]\n"
     ]
    }
   ],
   "source": [
    "instance.everything()"
   ]
  },
  {
   "cell_type": "code",
   "execution_count": 440,
   "metadata": {},
   "outputs": [],
   "source": [
    "instance.onlydays()"
   ]
  },
  {
   "cell_type": "code",
   "execution_count": 441,
   "metadata": {},
   "outputs": [],
   "source": [
    "instance.onlytemperatures()"
   ]
  },
  {
   "cell_type": "code",
   "execution_count": 443,
   "metadata": {},
   "outputs": [],
   "source": [
    "instance.changetemp()"
   ]
  },
  {
   "cell_type": "code",
   "execution_count": 450,
   "metadata": {},
   "outputs": [
    {
     "ename": "ParseError",
     "evalue": "not well-formed (invalid token): line 1, column 2 (<string>)",
     "output_type": "error",
     "traceback": [
      "Traceback \u001b[1;36m(most recent call last)\u001b[0m:\n",
      "  File \u001b[0;32m\"C:\\Users\\JaydenKoh\\anaconda3\\lib\\site-packages\\IPython\\core\\interactiveshell.py\"\u001b[0m, line \u001b[0;32m3331\u001b[0m, in \u001b[0;35mrun_code\u001b[0m\n    exec(code_obj, self.user_global_ns, self.user_ns)\n",
      "  File \u001b[0;32m\"<ipython-input-450-3f8935d5630b>\"\u001b[0m, line \u001b[0;32m1\u001b[0m, in \u001b[0;35m<module>\u001b[0m\n    instance.reset()\n",
      "  File \u001b[0;32m\"<ipython-input-449-7ca2924a6e52>\"\u001b[0m, line \u001b[0;32m29\u001b[0m, in \u001b[0;35mreset\u001b[0m\n    root = ET.fromstring('C:\\\\Users\\\\JaydenKoh\\\\Data Models\\\\forecast.xml')\n",
      "\u001b[1;36m  File \u001b[1;32m\"C:\\Users\\JaydenKoh\\anaconda3\\lib\\xml\\etree\\ElementTree.py\"\u001b[1;36m, line \u001b[1;32m1315\u001b[1;36m, in \u001b[1;35mXML\u001b[1;36m\u001b[0m\n\u001b[1;33m    parser.feed(text)\u001b[0m\n",
      "\u001b[1;36m  File \u001b[1;32m\"<string>\"\u001b[1;36m, line \u001b[1;32munknown\u001b[0m\n\u001b[1;31mParseError\u001b[0m\u001b[1;31m:\u001b[0m not well-formed (invalid token): line 1, column 2\n"
     ]
    }
   ],
   "source": [
    "instance.reset()"
   ]
  },
  {
   "cell_type": "code",
   "execution_count": null,
   "metadata": {},
   "outputs": [],
   "source": []
  },
  {
   "cell_type": "code",
   "execution_count": 24,
   "metadata": {},
   "outputs": [
    {
     "ename": "NameError",
     "evalue": "name 'numbereddict' is not defined",
     "output_type": "error",
     "traceback": [
      "\u001b[1;31m---------------------------------------------------------------------------\u001b[0m",
      "\u001b[1;31mNameError\u001b[0m                                 Traceback (most recent call last)",
      "\u001b[1;32m<ipython-input-24-67d86d5be87b>\u001b[0m in \u001b[0;36m<module>\u001b[1;34m\u001b[0m\n\u001b[0;32m      6\u001b[0m     \u001b[0mi\u001b[0m \u001b[1;33m=\u001b[0m \u001b[1;36m0\u001b[0m\u001b[1;33m\u001b[0m\u001b[1;33m\u001b[0m\u001b[0m\n\u001b[0;32m      7\u001b[0m     \u001b[1;32mfor\u001b[0m \u001b[0mkv\u001b[0m \u001b[1;32min\u001b[0m \u001b[0mproduct\u001b[0m\u001b[1;33m:\u001b[0m\u001b[1;33m\u001b[0m\u001b[1;33m\u001b[0m\u001b[0m\n\u001b[1;32m----> 8\u001b[1;33m         \u001b[0mnumbereddict\u001b[0m\u001b[1;33m.\u001b[0m\u001b[0mappend\u001b[0m\u001b[1;33m(\u001b[0m\u001b[1;33m{\u001b[0m\u001b[0mi\u001b[0m\u001b[1;33m,\u001b[0m\u001b[0mkv\u001b[0m\u001b[1;33m}\u001b[0m\u001b[1;33m)\u001b[0m\u001b[1;33m\u001b[0m\u001b[1;33m\u001b[0m\u001b[0m\n\u001b[0m\u001b[0;32m      9\u001b[0m         \u001b[0mi\u001b[0m \u001b[1;33m+=\u001b[0m \u001b[1;36m1\u001b[0m\u001b[1;33m\u001b[0m\u001b[1;33m\u001b[0m\u001b[0m\n\u001b[0;32m     10\u001b[0m \u001b[0mprint\u001b[0m\u001b[1;33m(\u001b[0m\u001b[0mnumbereddict\u001b[0m\u001b[1;33m)\u001b[0m\u001b[1;33m\u001b[0m\u001b[1;33m\u001b[0m\u001b[0m\n",
      "\u001b[1;31mNameError\u001b[0m: name 'numbereddict' is not defined"
     ]
    }
   ],
   "source": [
    "import xml.etree.ElementTree as ET\n",
    "myroot = ET.Element('shop')\n",
    "category = ET.SubElement(myroot,'category',{'name':'Vegan Products'})\n",
    "products = [{'name':'Good Morning Sunshine','type':'cereal','producer':'OpenEDG','price':'9.90'}]\n",
    "for product in products:\n",
    "    i = 0\n",
    "    for kv in product:\n",
    "        numbereddict.append({i,kv})\n",
    "        i += 1\n",
    "print(numbereddict)\n",
    "for productnum in range(len(products)):\n",
    "    numbereddict[productnum][0][0] = ET.SubElement(category,'product',{numbereddict[productnum][0][1]})\n",
    "    name = ET.SubElement(child,'type',{})\n",
    "    name.text = 'cereal'\n",
    "ET.dump(myroot)"
   ]
  },
  {
   "cell_type": "code",
   "execution_count": 34,
   "metadata": {},
   "outputs": [
    {
     "name": "stdout",
     "output_type": "stream",
     "text": [
      "category category {'name': 'Vegan Products'}\n",
      "product product {'name': 'Good Morning Sunshine'}\n",
      "texts type cereal {}\n"
     ]
    }
   ],
   "source": [
    "for category in myroot:\n",
    "    print('category',category.tag,category.attrib)\n",
    "    for product in category:\n",
    "        print('product',product.tag,product.attrib)\n",
    "        for texts in product:\n",
    "            print('texts',texts.tag,texts.text,texts.attrib)"
   ]
  },
  {
   "cell_type": "code",
   "execution_count": 23,
   "metadata": {},
   "outputs": [
    {
     "ename": "NameError",
     "evalue": "name 'ET' is not defined",
     "output_type": "error",
     "traceback": [
      "\u001b[1;31m---------------------------------------------------------------------------\u001b[0m",
      "\u001b[1;31mNameError\u001b[0m                                 Traceback (most recent call last)",
      "\u001b[1;32m<ipython-input-23-202ab4bfef1d>\u001b[0m in \u001b[0;36m<module>\u001b[1;34m\u001b[0m\n\u001b[1;32m----> 1\u001b[1;33m \u001b[0mtree\u001b[0m \u001b[1;33m=\u001b[0m \u001b[0mET\u001b[0m\u001b[1;33m.\u001b[0m\u001b[0mparse\u001b[0m\u001b[1;33m(\u001b[0m\u001b[1;34m'C:\\\\Users\\\\JaydenKoh\\\\Data Models\\\\csv_and_txt\\\\Goods.xml'\u001b[0m\u001b[1;33m)\u001b[0m\u001b[1;33m\u001b[0m\u001b[1;33m\u001b[0m\u001b[0m\n\u001b[0m\u001b[0;32m      2\u001b[0m \u001b[0mroot\u001b[0m \u001b[1;33m=\u001b[0m \u001b[0mtree\u001b[0m\u001b[1;33m.\u001b[0m\u001b[0mgetroot\u001b[0m\u001b[1;33m(\u001b[0m\u001b[1;33m)\u001b[0m\u001b[1;33m\u001b[0m\u001b[1;33m\u001b[0m\u001b[0m\n\u001b[0;32m      3\u001b[0m \u001b[1;32mfor\u001b[0m \u001b[0mcategory\u001b[0m \u001b[1;32min\u001b[0m \u001b[0mroot\u001b[0m\u001b[1;33m:\u001b[0m\u001b[1;33m\u001b[0m\u001b[1;33m\u001b[0m\u001b[0m\n\u001b[0;32m      4\u001b[0m     \u001b[0mprint\u001b[0m\u001b[1;33m(\u001b[0m\u001b[1;34m'category'\u001b[0m\u001b[1;33m,\u001b[0m\u001b[0mcategory\u001b[0m\u001b[1;33m.\u001b[0m\u001b[0mtag\u001b[0m\u001b[1;33m,\u001b[0m\u001b[0mcategory\u001b[0m\u001b[1;33m.\u001b[0m\u001b[0mattrib\u001b[0m\u001b[1;33m)\u001b[0m\u001b[1;33m\u001b[0m\u001b[1;33m\u001b[0m\u001b[0m\n\u001b[0;32m      5\u001b[0m     \u001b[1;32mfor\u001b[0m \u001b[0mproduct\u001b[0m \u001b[1;32min\u001b[0m \u001b[0mcategory\u001b[0m\u001b[1;33m:\u001b[0m\u001b[1;33m\u001b[0m\u001b[1;33m\u001b[0m\u001b[0m\n",
      "\u001b[1;31mNameError\u001b[0m: name 'ET' is not defined"
     ]
    }
   ],
   "source": [
    "tree = ET.parse('C:\\\\Users\\\\JaydenKoh\\\\Data Models\\\\csv_and_txt\\\\Goods.xml')\n",
    "root = tree.getroot()\n",
    "for category in root:\n",
    "    print('category',category.tag,category.attrib)\n",
    "    for product in category:\n",
    "        print('product',product.tag,product.attrib)\n",
    "        for texts in product:\n",
    "            print('texts',texts.tag,texts.text,texts.attrib)"
   ]
  },
  {
   "cell_type": "code",
   "execution_count": 8,
   "metadata": {},
   "outputs": [],
   "source": [
    "difroot = ET.Element('data')\n",
    "movie_1 = ET.SubElement(difroot, 'movie', {'title': 'The Little Prince', 'rate': '5'})\n",
    "movie_2 = ET.SubElement(difroot, 'movie', {'title': 'Hamlet', 'rate': '5'})"
   ]
  },
  {
   "cell_type": "code",
   "execution_count": 9,
   "metadata": {},
   "outputs": [
    {
     "name": "stdout",
     "output_type": "stream",
     "text": [
      "category movie {'title': 'The Little Prince', 'rate': '5'}\n",
      "category movie {'title': 'Hamlet', 'rate': '5'}\n"
     ]
    }
   ],
   "source": [
    "for category in difroot:\n",
    "    print('category',category.tag,category.attrib)\n",
    "    for product in category:\n",
    "        print('product',product.tag,product.attrib)\n",
    "        for texts in product:\n",
    "            print('texts',texts.tag,texts.text,texts.attrib)"
   ]
  },
  {
   "cell_type": "code",
   "execution_count": 42,
   "metadata": {},
   "outputs": [
    {
     "name": "stdout",
     "output_type": "stream",
     "text": [
      "dict_keys([1, 3, 5])\n"
     ]
    }
   ],
   "source": [
    "a = {1:2,3:4,5:6}\n",
    "print(a.keys())"
   ]
  },
  {
   "cell_type": "code",
   "execution_count": 20,
   "metadata": {},
   "outputs": [],
   "source": [
    "import csv\n",
    "class Phone():\n",
    "    def __init__(self):\n",
    "        file_name = 'C:\\\\Users\\\\JaydenKoh\\\\Data models\\\\JapaneseVerbN5fixed.csv'\n",
    "    def load_contacts_from_csv(self):\n",
    "        with open('C:\\\\Users\\\\JaydenKoh\\\\Data models\\\\csv_and_txt\\\\JapaneseVerbN5fixed.csv', newline = '',encoding ='utf8') as csvfile:\n",
    "            reader = csv.DictReader(csvfile,('Kanji','Kana','English'))\n",
    "            for row in reader:\n",
    "                yield row\n",
    "    def search(self,kw):\n",
    "        for contact in self.load_contacts_from_csv():\n",
    "            if kw in str(contact):\n",
    "                print(contact)\n",
    "        print('done')\n",
    "phone = Phone()"
   ]
  },
  {
   "cell_type": "code",
   "execution_count": 21,
   "metadata": {},
   "outputs": [
    {
     "name": "stdout",
     "output_type": "stream",
     "text": [
      "OrderedDict([('Kanji', '会う'), ('Kana', 'あう'), ('English', 'to meet\\t')])\n",
      "done\n"
     ]
    }
   ],
   "source": [
    "phone.search('meet')"
   ]
  },
  {
   "cell_type": "code",
   "execution_count": 22,
   "metadata": {},
   "outputs": [
    {
     "name": "stdout",
     "output_type": "stream",
     "text": [
      "OrderedDict([('Kanji', '会う'), ('Kana', 'あう'), ('English', 'to meet\\t')])\n",
      "OrderedDict([('Kanji', '開く'), ('Kana', 'あく'), ('English', 'to open\\t')])\n",
      "OrderedDict([('Kanji', '開ける'), ('Kana', 'あける'), ('English', 'to open\\t')])\n",
      "OrderedDict([('Kanji', 'あげる'), ('Kana', 'あげる'), ('English', 'to give\\t')])\n",
      "OrderedDict([('Kanji', '遊ぶ'), ('Kana', 'あそぶ'), ('English', 'to play\\t')])\n",
      "OrderedDict([('Kanji', '浴びる'), ('Kana', 'あびる'), ('English', 'to take a shower\\t')])\n",
      "OrderedDict([('Kanji', '洗う'), ('Kana', 'あらう'), ('English', 'to wash\\t')])\n",
      "OrderedDict([('Kanji', '有る'), ('Kana', 'ある'), ('English', 'to be; to exist\\t')])\n",
      "OrderedDict([('Kanji', 'ある'), ('Kana', 'ある'), ('English', 'to possess\\t')])\n",
      "OrderedDict([('Kanji', '歩く'), ('Kana', 'あるく'), ('English', 'to walk\\t')])\n",
      "OrderedDict([('Kanji', '言う'), ('Kana', 'いう'), ('English', 'to say; to tell\\t')])\n",
      "OrderedDict([('Kanji', '行く'), ('Kana', 'いく'), ('English', 'to go\\t')])\n",
      "OrderedDict([('Kanji', 'いる'), ('Kana', 'いる'), ('English', 'need; must haven be required; to exist\\t')])\n",
      "OrderedDict([('Kanji', '入れる'), ('Kana', 'いれる'), ('English', 'to insert; to put in\\t')])\n",
      "OrderedDict([('Kanji', '歌う'), ('Kana', 'うたう'), ('English', 'to sing\\t')])\n",
      "OrderedDict([('Kanji', '生まれる'), ('Kana', 'うまれる'), ('English', 'to be born\\t')])\n",
      "OrderedDict([('Kanji', '売る'), ('Kana', 'うる'), ('English', 'to sell\\t')])\n",
      "OrderedDict([('Kanji', '起きる'), ('Kana', 'おきる'), ('English', 'to get up; to stand up\\t')])\n",
      "OrderedDict([('Kanji', 'おく'), ('Kana', 'おく'), ('English', 'to put\\t')])\n",
      "OrderedDict([('Kanji', '送る'), ('Kana', 'おくる'), ('English', 'to send\\t')])\n",
      "OrderedDict([('Kanji', '押す'), ('Kana', 'おす'), ('English', 'to push\\t')])\n",
      "OrderedDict([('Kanji', '覚える'), ('Kana', 'おぼえる'), ('English', 'to memorize; to remember\\t')])\n",
      "OrderedDict([('Kanji', '泳ぐ'), ('Kana', 'およぐ'), ('English', 'to swim\\t')])\n",
      "OrderedDict([('Kanji', '降りる'), ('Kana', 'おりる'), ('English', 'to get off\\t')])\n",
      "OrderedDict([('Kanji', '終わる'), ('Kana', 'おわる'), ('English', 'to end\\t')])\n",
      "OrderedDict([('Kanji', '買う'), ('Kana', 'かう'), ('English', 'to buy\\t')])\n",
      "OrderedDict([('Kanji', '返す'), ('Kana', 'かえす'), ('English', 'to return an object\\t')])\n",
      "OrderedDict([('Kanji', '帰る'), ('Kana', 'かえる'), ('English', 'to return home\\t')])\n",
      "OrderedDict([('Kanji', 'かかる'), ('Kana', 'かかる'), ('English', 'to take time or money\\t')])\n",
      "OrderedDict([('Kanji', '書く'), ('Kana', 'かく'), ('English', 'to write\\t')])\n",
      "OrderedDict([('Kanji', 'かける'), ('Kana', 'かける'), ('English', 'to make a phone call or to wear')])\n",
      "OrderedDict([('Kanji', '貸す'), ('Kana', 'かす'), ('English', 'to lend\\t')])\n",
      "OrderedDict([('Kanji', '冠る'), ('Kana', 'かぶる'), ('English', 'to put on a hat\\t')])\n",
      "OrderedDict([('Kanji', '借りる'), ('Kana', 'かりる'), ('English', 'to borrow\\t')])\n",
      "OrderedDict([('Kanji', '消える'), ('Kana', 'きえる'), ('English', 'to go out; to vanish\\t')])\n",
      "OrderedDict([('Kanji', '聞く'), ('Kana', 'きく'), ('English', 'to listen\\t')])\n",
      "OrderedDict([('Kanji', '切る'), ('Kana', 'きる'), ('English', 'to cut\\t')])\n",
      "OrderedDict([('Kanji', '着る'), ('Kana', 'きる'), ('English', 'to wear; to put on\\t')])\n",
      "OrderedDict([('Kanji', '来る'), ('Kana', 'くる'), ('English', 'to come\\t')])\n",
      "OrderedDict([('Kanji', '消す'), ('Kana', 'けす'), ('English', 'to turn off; to switch off\\t')])\n",
      "OrderedDict([('Kanji', '答える'), ('Kana', 'こたえる'), ('English', 'to answer\\t')])\n",
      "OrderedDict([('Kanji', '困る'), ('Kana', 'こまる'), ('English', 'to be in trouble\\t')])\n",
      "OrderedDict([('Kanji', '咲く'), ('Kana', 'さく'), ('English', 'to blossom\\t')])\n",
      "OrderedDict([('Kanji', 'さす'), ('Kana', 'さす'), ('English', 'to open an umbrella\\t')])\n",
      "OrderedDict([('Kanji', '死ぬ'), ('Kana', 'しぬ'), ('English', ' to die; to pass away\\t')])\n",
      "OrderedDict([('Kanji', '閉まる'), ('Kana', 'しまる'), ('English', 'to close\\t')])\n",
      "OrderedDict([('Kanji', '閉める'), ('Kana', 'しめる'), ('English', 'to close\\t')])\n",
      "OrderedDict([('Kanji', '締める'), ('Kana', 'しめる'), ('English', 'to fasten a belt\\t')])\n",
      "OrderedDict([('Kanji', '知る'), ('Kana', 'しる'), ('English', 'to know\\t')])\n",
      "OrderedDict([('Kanji', '吸う'), ('Kana', 'すう'), ('English', 'to breath; to smoke\\t')])\n",
      "OrderedDict([('Kanji', '住む'), ('Kana', 'すむ'), ('English', 'to live; to reside somewhere\\t')])\n",
      "OrderedDict([('Kanji', 'する'), ('Kana', 'する'), ('English', 'to do\\t')])\n",
      "OrderedDict([('Kanji', '座る'), ('Kana', 'すわる'), ('English', 'to sit\\t')])\n",
      "OrderedDict([('Kanji', '出す'), ('Kana', 'だす'), ('English', 'to take out; hand in\\t')])\n",
      "OrderedDict([('Kanji', '立つ'), ('Kana', 'たつ'), ('English', 'to stand\\t')])\n",
      "OrderedDict([('Kanji', '頼む'), ('Kana', 'たのむ'), ('English', 'to ask; to request\\t')])\n",
      "OrderedDict([('Kanji', '食べる'), ('Kana', 'たべる'), ('English', 'to eat\\t')])\n",
      "OrderedDict([('Kanji', '違う'), ('Kana', 'ちがう'), ('English', 'to be different\\t')])\n",
      "OrderedDict([('Kanji', '使う'), ('Kana', 'つかう'), ('English', 'to use\\t')])\n",
      "OrderedDict([('Kanji', '疲れる'), ('Kana', 'つかれる'), ('English', 'to get tired\\t')])\n",
      "OrderedDict([('Kanji', '着く'), ('Kana', 'つく'), ('English', 'to arrive\\t')])\n",
      "OrderedDict([('Kanji', '作る'), ('Kana', 'つくる'), ('English', 'to make; to produce\\t')])\n",
      "OrderedDict([('Kanji', '点ける'), ('Kana', 'つける'), ('English', 'to turn on\\t')])\n",
      "OrderedDict([('Kanji', '勤める'), ('Kana', 'つとめる'), ('English', 'to work for someone\\t')])\n",
      "OrderedDict([('Kanji', '出かける'), ('Kana', 'でかける'), ('English', 'to go out\\t')])\n",
      "OrderedDict([('Kanji', '出来る'), ('Kana', 'できる'), ('English', 'can do\\t')])\n",
      "OrderedDict([('Kanji', '出る'), ('Kana', 'でる'), ('English', 'to leave\\t')])\n",
      "OrderedDict([('Kanji', '飛ぶ'), ('Kana', 'とぶ'), ('English', 'to fly\\t')])\n",
      "OrderedDict([('Kanji', '止まる'), ('Kana', 'とまる'), ('English', 'to stop\\t')])\n",
      "OrderedDict([('Kanji', '取る'), ('Kana', 'とる'), ('English', ' to take\\t')])\n",
      "OrderedDict([('Kanji', '撮る'), ('Kana', 'とる'), ('English', 'to take a photo\\t')])\n",
      "OrderedDict([('Kanji', '鳴く'), ('Kana', 'なく'), ('English', 'to sing; mew; moo\\t')])\n",
      "OrderedDict([('Kanji', '並ぶ'), ('Kana', 'ならぶ'), ('English', 'to form a line\\t')])\n",
      "OrderedDict([('Kanji', '並べる'), ('Kana', 'ならべる'), ('English', 'to line up\\t')])\n",
      "OrderedDict([('Kanji', 'なる'), ('Kana', 'なる'), ('English', 'to become\\t')])\n",
      "OrderedDict([('Kanji', '脱ぐ'), ('Kana', 'ぬぐ'), ('English', 'to take off clothes\\t')])\n",
      "OrderedDict([('Kanji', '寝る'), ('Kana', 'ねる'), ('English', 'to sleep\\t')])\n",
      "OrderedDict([('Kanji', '登る'), ('Kana', 'のぼる'), ('English', 'to climb up\\t')])\n",
      "OrderedDict([('Kanji', '飲む'), ('Kana', 'のむ'), ('English', 'to drink\\t')])\n",
      "OrderedDict([('Kanji', '乗る'), ('Kana', 'のる'), ('English', 'to take; to ride\\t')])\n",
      "OrderedDict([('Kanji', '入る'), ('Kana', 'はいる'), ('English', 'to enter\\t')])\n",
      "OrderedDict([('Kanji', '履く'), ('Kana', 'はく'), ('English', 'to put on shoes\\t')])\n",
      "OrderedDict([('Kanji', '始まる'), ('Kana', 'はじまる'), ('English', 'to begin; to start\\t')])\n",
      "OrderedDict([('Kanji', '走る'), ('Kana', 'はしる'), ('English', 'to run\\t')])\n",
      "OrderedDict([('Kanji', '働く'), ('Kana', 'はたらく'), ('English', 'to work\\t')])\n",
      "OrderedDict([('Kanji', '話す'), ('Kana', 'はなす'), ('English', 'to talk; to speak; to tell\\t')])\n",
      "OrderedDict([('Kanji', '張る'), ('Kana', 'はる'), ('English', 'to put something on; to stick\\t')])\n",
      "OrderedDict([('Kanji', '晴れる'), ('Kana', 'はれる'), ('English', 'to clear up\\t')])\n",
      "OrderedDict([('Kanji', '引く'), ('Kana', 'ひく'), ('English', 'to pull\\t')])\n",
      "OrderedDict([('Kanji', '弾く'), ('Kana', 'ひく'), ('English', 'to play an instrument\\t')])\n",
      "OrderedDict([('Kanji', '吹く'), ('Kana', 'ふく'), ('English', 'to blow (wind)\\t')])\n",
      "OrderedDict([('Kanji', '降る'), ('Kana', 'ふる'), ('English', 'to fall (rain; snow)\\t')])\n",
      "OrderedDict([('Kanji', '曲がる'), ('Kana', 'まがる'), ('English', 'to turn\\t')])\n",
      "OrderedDict([('Kanji', '待つ'), ('Kana', 'まつ'), ('English', 'to wait\\t')])\n",
      "OrderedDict([('Kanji', '磨く'), ('Kana', 'みがく'), ('English', 'to polish; to brush\\t')])\n",
      "OrderedDict([('Kanji', '見せる'), ('Kana', 'みせる'), ('English', 'to show\\t')])\n",
      "OrderedDict([('Kanji', '見る'), ('Kana', 'みる'), ('English', 'to see; to watch\\t')])\n",
      "OrderedDict([('Kanji', '持つ'), ('Kana', 'もつ'), ('English', 'to have; to own\\t')])\n",
      "OrderedDict([('Kanji', '休む'), ('Kana', 'やすむ'), ('English', 'to rest\\t')])\n",
      "OrderedDict([('Kanji', 'やる'), ('Kana', 'やる'), ('English', ' to do\\t')])\n",
      "OrderedDict([('Kanji', '呼ぶ'), ('Kana', 'よぶ'), ('English', 'to call\\t')])\n",
      "OrderedDict([('Kanji', '読む'), ('Kana', 'よむ'), ('English', 'to read\\t')])\n",
      "OrderedDict([('Kanji', '分かる'), ('Kana', 'わかる'), ('English', 'to know; to understand\\t')])\n",
      "OrderedDict([('Kanji', '忘れる'), ('Kana', 'わすれる'), ('English', 'to forget\\t')])\n",
      "OrderedDict([('Kanji', '渡す'), ('Kana', 'わたす'), ('English', 'to hand over\\t')])\n",
      "OrderedDict([('Kanji', '渡る'), ('Kana', 'わたる'), ('English', 'to cross')])\n"
     ]
    }
   ],
   "source": [
    "for x in phone.load_contacts_from_csv():\n",
    "    print(x)"
   ]
  },
  {
   "cell_type": "code",
   "execution_count": 18,
   "metadata": {},
   "outputs": [],
   "source": [
    "import csv \n",
    "class Scores():\n",
    "    def __init__(self):\n",
    "        pass\n",
    "    def sort(self):\n",
    "        with open('C:\\\\Users\\\\JaydenKoh\\\\Data models\\\\csv_and_txt\\\\exam_results.csv') as csvfile:\n",
    "            reader = csv.DictReader(csvfile)\n",
    "            self.mydict = {'Maths':0,'Physics':0,'Biology':0}\n",
    "            # Unique test takers, pass:fail\n",
    "            maths = biology = physics = []\n",
    "            subjects = [maths,physics,biology]\n",
    "            for row in reader:\n",
    "                if row['Exam Name'] == 'Maths':\n",
    "                    maths.append(row)\n",
    "                if row['Exam Name'] == 'Physics':\n",
    "                    physics.append(row)\n",
    "                if row['Exam Name'] == 'Biology':\n",
    "                    biology.append(row)\n",
    "            maths_set = physics_set = biology_set = []\n",
    "            for exam in maths:\n",
    "                maths_set.append(exam['Candidate ID'])\n",
    "            for exam in physics:\n",
    "                physics_set.append(exam['Candidate ID'])\n",
    "            for exam in biology:\n",
    "                biology_set.append(exam['Candidate ID'])\n",
    "            mathsf, physicsf, biologyf = [len(set(maths_set)),[0,0],'Maths'], [len(set(physics_set)),[0,0],'Physics'], [len(set(biology_set)),[0,0],'Biology']\n",
    "            subjectsf = [mathsf,physicsf,biologyf]\n",
    "            math_scores = biology_scores = physics_scores = []\n",
    "            scores = [math_scores,biology_scores,physics_scores]\n",
    "            i = 0\n",
    "            for subject in subjects:\n",
    "                for exam in subject:\n",
    "                    if exam['Grade'] == 'Pass':\n",
    "                        subjectsf[i][1][0] += 1\n",
    "                    else:\n",
    "                        subjectsf[i][1][1] += 1    \n",
    "                    scores[i].append(int(exam['Score']))\n",
    "                subjectsf[i].append((min(scores[i]),max(scores[i])))\n",
    "                i += 1\n",
    "            print(mathsf,physicsf,biologyf)\n",
    "            for subjectf in subjectsf:\n",
    "                subjectf.pop()\n",
    "            #Exam Name,Number of Candidates,Number of Passed Exams,Number of Failed Exams,Best Score,Worst Score\n",
    "thisscore = Scores()"
   ]
  },
  {
   "cell_type": "code",
   "execution_count": 19,
   "metadata": {},
   "outputs": [
    {
     "name": "stdout",
     "output_type": "stream",
     "text": [
      "[14, [6, 12], 'Maths', (23, 90)] [14, [6, 12], 'Physics', (23, 90)] [14, [6, 12], 'Biology', (23, 90)]\n"
     ]
    }
   ],
   "source": [
    "thisscore.sort()"
   ]
  },
  {
   "cell_type": "code",
   "execution_count": 164,
   "metadata": {},
   "outputs": [
    {
     "name": "stdout",
     "output_type": "stream",
     "text": [
      "OrderedDict([('Exam Name', 'Maths'), ('Candidate ID', 'C000007'), ('Score', '44'), ('Grade', 'Fail')])\n",
      "Maths\n",
      "OrderedDict([('Exam Name', 'Physics'), ('Candidate ID', 'C000001'), ('Score', '50'), ('Grade', 'Fail')])\n",
      "Physics\n",
      "OrderedDict([('Exam Name', 'Biology'), ('Candidate ID', 'C000001'), ('Score', '30'), ('Grade', 'Fail')])\n",
      "Biology\n",
      "OrderedDict([('Exam Name', 'Maths'), ('Candidate ID', 'C000005'), ('Score', '50'), ('Grade', 'Fail')])\n",
      "Maths\n",
      "OrderedDict([('Exam Name', 'Biology'), ('Candidate ID', 'C000002'), ('Score', '45'), ('Grade', 'Fail')])\n",
      "Biology\n",
      "OrderedDict([('Exam Name', 'Physics'), ('Candidate ID', 'C000006'), ('Score', '66'), ('Grade', 'Fail')])\n",
      "Physics\n",
      "OrderedDict([('Exam Name', 'Maths'), ('Candidate ID', 'C000009'), ('Score', '74'), ('Grade', 'Pass')])\n",
      "Maths\n",
      "OrderedDict([('Exam Name', 'Maths'), ('Candidate ID', 'C000010'), ('Score', '74'), ('Grade', 'Pass')])\n",
      "Maths\n",
      "OrderedDict([('Exam Name', 'Biology'), ('Candidate ID', 'C000003'), ('Score', '70'), ('Grade', 'Pass')])\n",
      "Biology\n",
      "OrderedDict([('Exam Name', 'Maths'), ('Candidate ID', 'C000012'), ('Score', '55'), ('Grade', 'Fail')])\n",
      "Maths\n",
      "OrderedDict([('Exam Name', 'Maths'), ('Candidate ID', 'C000013'), ('Score', '33'), ('Grade', 'Fail')])\n",
      "Maths\n",
      "OrderedDict([('Exam Name', 'Biology'), ('Candidate ID', 'C000004'), ('Score', '88'), ('Grade', 'Pass')])\n",
      "Biology\n",
      "OrderedDict([('Exam Name', 'Maths'), ('Candidate ID', 'C000014'), ('Score', '90'), ('Grade', 'Pass')])\n",
      "Maths\n",
      "OrderedDict([('Exam Name', 'Maths'), ('Candidate ID', 'C000005'), ('Score', '82'), ('Grade', 'Pass')])\n",
      "Maths\n",
      "OrderedDict([('Exam Name', 'Biology'), ('Candidate ID', 'C000011'), ('Score', '23'), ('Grade', 'Fail')])\n",
      "Biology\n",
      "OrderedDict([('Exam Name', 'Maths'), ('Candidate ID', 'C000008'), ('Score', '44'), ('Grade', 'Fail')])\n",
      "Maths\n",
      "OrderedDict([('Exam Name', 'Maths'), ('Candidate ID', 'C000008'), ('Score', '54'), ('Grade', 'Fail')])\n",
      "Maths\n",
      "OrderedDict([('Exam Name', 'Physics'), ('Candidate ID', 'C000003'), ('Score', '54'), ('Grade', 'Fail')])\n",
      "Physics\n"
     ]
    }
   ],
   "source": [
    "import csv\n",
    "with open('C:\\\\Users\\\\JaydenKoh\\\\Data models\\\\exam_results.csv') as csvfile:\n",
    "    reader = csv.DictReader(csvfile)\n",
    "    for row in reader:\n",
    "        print(row)\n",
    "        print(row['Exam Name'])"
   ]
  },
  {
   "cell_type": "code",
   "execution_count": 9,
   "metadata": {},
   "outputs": [
    {
     "ename": "SyntaxError",
     "evalue": "invalid syntax (<ipython-input-9-23a647225138>, line 2)",
     "output_type": "error",
     "traceback": [
      "\u001b[1;36m  File \u001b[1;32m\"<ipython-input-9-23a647225138>\"\u001b[1;36m, line \u001b[1;32m2\u001b[0m\n\u001b[1;33m    raise AssertionError, 's'\u001b[0m\n\u001b[1;37m                        ^\u001b[0m\n\u001b[1;31mSyntaxError\u001b[0m\u001b[1;31m:\u001b[0m invalid syntax\n"
     ]
    }
   ],
   "source": [
    "x = 0\n",
    "raise AssertionError\n"
   ]
  },
  {
   "cell_type": "code",
   "execution_count": 33,
   "metadata": {},
   "outputs": [],
   "source": [
    "import logging\n",
    "logger = logging.getLogger('__some_name__')"
   ]
  },
  {
   "cell_type": "code",
   "execution_count": 34,
   "metadata": {},
   "outputs": [
    {
     "name": "stdout",
     "output_type": "stream",
     "text": [
      "<Logger __some_name__ (WARNING)>\n"
     ]
    }
   ],
   "source": [
    "print(logger)"
   ]
  },
  {
   "cell_type": "code",
   "execution_count": 68,
   "metadata": {},
   "outputs": [],
   "source": [
    "FORMAT = '%(name)s:%(levelname)s:%(asctime)s:%(message)s'\n",
    "logging.basicConfig(level=logging.CRITICAL,filemode='a',mode='a',format=FORMAT)\n",
    "handler = logging.FileHandler('C:\\\\Users\\\\JaydenKoh\\\\Data models\\\\prod.log',mode='w')\n",
    "handler.setLevel(logging.CRITICAL)\n",
    "logger = logging.getLogger(__name__)\n",
    "logger.setLevel(logging.NOTSET)\n",
    "# logger.critical('this is pretty critical')\n",
    "# logger.warning('100')\n",
    "logger.info('this is info')\n"
   ]
  },
  {
   "cell_type": "code",
   "execution_count": 69,
   "metadata": {},
   "outputs": [
    {
     "name": "stdout",
     "output_type": "stream",
     "text": [
      "<Logger __main__ (WARNING)>\n"
     ]
    }
   ],
   "source": [
    "print(logger)"
   ]
  },
  {
   "cell_type": "code",
   "execution_count": 70,
   "metadata": {},
   "outputs": [
    {
     "name": "stdout",
     "output_type": "stream",
     "text": [
      "%(name)s:%(levelname)s:%(asctime)s:%(message)s\n"
     ]
    }
   ],
   "source": [
    "print(FORMAT)"
   ]
  },
  {
   "cell_type": "code",
   "execution_count": 6,
   "metadata": {},
   "outputs": [],
   "source": [
    "import logging\n",
    "\n",
    "FORMAT = '%(name)s:%(levelname)s:%(asctime)s:%(message)s'\n",
    "\n",
    "logger = logging.getLogger(__name__)\n",
    "\n",
    "handler = logging.FileHandler('C:\\\\Users\\\\JaydenKoh\\\\Data models\\\\prod.log', mode='a')\n",
    "handler.setLevel(logging.CRITICAL)\n",
    "\n",
    "formatter = logging.Formatter(FORMAT)\n",
    "handler.setFormatter(formatter)\n",
    "\n",
    "logger.addHandler(handler)\n",
    "logger.setLevel(logging.DEBUG)\n",
    "logger.critical('')\n",
    "logger.error('Your ERROR message')\n",
    "logger.warning('Your WARNING message')\n",
    "logger.info('Your INFO message')\n",
    "logger.debug('Your DEBUG message')"
   ]
  },
  {
   "cell_type": "code",
   "execution_count": 8,
   "metadata": {},
   "outputs": [],
   "source": [
    "logger.critical('')"
   ]
  },
  {
   "cell_type": "code",
   "execution_count": 21,
   "metadata": {},
   "outputs": [],
   "source": [
    "import logging \n",
    "mylogger = logging.getLogger('my name')\n",
    "# logging.basicConfig(filename='C:\\\\Users\\\\JaydenKoh\\\\Data models\\\\prod.log',mode='a')\n",
    "myhandler = logging.FileHandler('C:\\\\Users\\\\JaydenKoh\\\\Data models\\\\prod.log')\n",
    "\n",
    "FORMAT = '%(levelname)s:%(asctime)s'\n",
    "myformatter = logging.Formatter('%(name)s:%(levelname)s:%(asctime)s')\n",
    "\n",
    "myhandler.setFormatter(logging.Formatter('%(name)s:%(levelname)s:%(asctime)s'))\n",
    "\n",
    "mylogger.addHandler(myhandler)\n",
    "mylogger.setLevel(logging.INFO)"
   ]
  },
  {
   "cell_type": "code",
   "execution_count": 22,
   "metadata": {},
   "outputs": [],
   "source": [
    "mylogger.critical('critical message')"
   ]
  },
  {
   "cell_type": "code",
   "execution_count": 23,
   "metadata": {},
   "outputs": [],
   "source": [
    "def temp_check(temp):\n",
    "    if temp > 35:\n",
    "        mylogger.critical('too hot')\n",
    "    elif temp >= 30 and temp <= 35:\n",
    "        mylogger.warning('getting a bit hot')\n",
    "    elif temp < 20:\n",
    "        mylogger.debug('too cold')\n",
    "    else:\n",
    "        mylogger.info('everythings good')"
   ]
  },
  {
   "cell_type": "code",
   "execution_count": 17,
   "metadata": {},
   "outputs": [],
   "source": [
    "from random import randint\n",
    "from time import sleep\n",
    "def rand_temp():\n",
    "    return randint(20,40)"
   ]
  },
  {
   "cell_type": "code",
   "execution_count": 8,
   "metadata": {},
   "outputs": [
    {
     "name": "stdout",
     "output_type": "stream",
     "text": [
      "33\n"
     ]
    }
   ],
   "source": [
    "temp = rand_temp()\n",
    "print(temp)\n",
    "temp_check(temp)"
   ]
  },
  {
   "cell_type": "code",
   "execution_count": 24,
   "metadata": {
    "scrolled": true
   },
   "outputs": [
    {
     "name": "stdout",
     "output_type": "stream",
     "text": [
      "31\n",
      "35\n",
      "30\n",
      "29\n",
      "30\n",
      "34\n",
      "34\n",
      "39\n",
      "39\n",
      "24\n"
     ]
    },
    {
     "ename": "AttributeError",
     "evalue": "'Logger' object has no attribute 'emit'",
     "output_type": "error",
     "traceback": [
      "\u001b[1;31m---------------------------------------------------------------------------\u001b[0m",
      "\u001b[1;31mAttributeError\u001b[0m                            Traceback (most recent call last)",
      "\u001b[1;32m<ipython-input-24-28fcf6562c69>\u001b[0m in \u001b[0;36m<module>\u001b[1;34m\u001b[0m\n\u001b[0;32m      4\u001b[0m     \u001b[0mtemp_check\u001b[0m\u001b[1;33m(\u001b[0m\u001b[0mtemp\u001b[0m\u001b[1;33m)\u001b[0m\u001b[1;33m\u001b[0m\u001b[1;33m\u001b[0m\u001b[0m\n\u001b[0;32m      5\u001b[0m     \u001b[0msleep\u001b[0m\u001b[1;33m(\u001b[0m\u001b[1;36m1\u001b[0m\u001b[1;33m)\u001b[0m\u001b[1;33m\u001b[0m\u001b[1;33m\u001b[0m\u001b[0m\n\u001b[1;32m----> 6\u001b[1;33m \u001b[0mmylogger\u001b[0m\u001b[1;33m.\u001b[0m\u001b[0memit\u001b[0m\u001b[1;33m(\u001b[0m\u001b[1;33m)\u001b[0m\u001b[1;33m\u001b[0m\u001b[1;33m\u001b[0m\u001b[0m\n\u001b[0m",
      "\u001b[1;31mAttributeError\u001b[0m: 'Logger' object has no attribute 'emit'"
     ]
    }
   ],
   "source": [
    "for i in range(10):\n",
    "    temp = rand_temp()\n",
    "    print(temp)\n",
    "    temp_check(temp)\n",
    "    sleep(1)"
   ]
  },
  {
   "cell_type": "code",
   "execution_count": 41,
   "metadata": {},
   "outputs": [
    {
     "name": "stdout",
     "output_type": "stream",
     "text": [
      "value3\n",
      "value2\n",
      "value4\n"
     ]
    },
    {
     "data": {
      "text/plain": [
       "{'one': 'value3', 'two': 'value2', 'One': 'value4'}"
      ]
     },
     "execution_count": 41,
     "metadata": {},
     "output_type": "execute_result"
    }
   ],
   "source": [
    "dic = {\n",
    "    'one':'value1',\n",
    "    'two':'value2',\n",
    "    'one':'value3',\n",
    "    'One':'value4'\n",
    "}\n",
    "for kv in dic:\n",
    "    print(dic.get(kv))\n",
    "new_dic = dic.copy()\n",
    "new_dic"
   ]
  },
  {
   "cell_type": "code",
   "execution_count": 3,
   "metadata": {},
   "outputs": [],
   "source": [
    "import configparser\n",
    "config = configparser.ConfigParser()\n",
    "config['DEFAULT'] = {'host':'myhost'}\n",
    "config['jaydendb'] = {'name':'jayden',\n",
    "                      'password':'mypassword',\n",
    "                      'user':'root'\n",
    "}\n",
    "config['redis'] ={\n",
    "            'port':6397,\n",
    "            'db':0\n",
    "}\n",
    "with open('config.ini','w') as configfile:\n",
    "    config.write(configfile)"
   ]
  },
  {
   "cell_type": "code",
   "execution_count": 4,
   "metadata": {},
   "outputs": [
    {
     "ename": "KeyError",
     "evalue": "'pot'",
     "output_type": "error",
     "traceback": [
      "\u001b[1;31m---------------------------------------------------------------------------\u001b[0m",
      "\u001b[1;31mKeyError\u001b[0m                                  Traceback (most recent call last)",
      "\u001b[1;32m<ipython-input-4-c14b3230aa05>\u001b[0m in \u001b[0;36m<module>\u001b[1;34m\u001b[0m\n\u001b[1;32m----> 1\u001b[1;33m \u001b[0mconfig\u001b[0m\u001b[1;33m[\u001b[0m\u001b[1;34m'redis'\u001b[0m\u001b[1;33m]\u001b[0m\u001b[1;33m[\u001b[0m\u001b[1;34m'pot'\u001b[0m\u001b[1;33m]\u001b[0m\u001b[1;33m\u001b[0m\u001b[1;33m\u001b[0m\u001b[0m\n\u001b[0m",
      "\u001b[1;32m~\\anaconda3\\lib\\configparser.py\u001b[0m in \u001b[0;36m__getitem__\u001b[1;34m(self, key)\u001b[0m\n\u001b[0;32m   1249\u001b[0m     \u001b[1;32mdef\u001b[0m \u001b[0m__getitem__\u001b[0m\u001b[1;33m(\u001b[0m\u001b[0mself\u001b[0m\u001b[1;33m,\u001b[0m \u001b[0mkey\u001b[0m\u001b[1;33m)\u001b[0m\u001b[1;33m:\u001b[0m\u001b[1;33m\u001b[0m\u001b[1;33m\u001b[0m\u001b[0m\n\u001b[0;32m   1250\u001b[0m         \u001b[1;32mif\u001b[0m \u001b[1;32mnot\u001b[0m \u001b[0mself\u001b[0m\u001b[1;33m.\u001b[0m\u001b[0m_parser\u001b[0m\u001b[1;33m.\u001b[0m\u001b[0mhas_option\u001b[0m\u001b[1;33m(\u001b[0m\u001b[0mself\u001b[0m\u001b[1;33m.\u001b[0m\u001b[0m_name\u001b[0m\u001b[1;33m,\u001b[0m \u001b[0mkey\u001b[0m\u001b[1;33m)\u001b[0m\u001b[1;33m:\u001b[0m\u001b[1;33m\u001b[0m\u001b[1;33m\u001b[0m\u001b[0m\n\u001b[1;32m-> 1251\u001b[1;33m             \u001b[1;32mraise\u001b[0m \u001b[0mKeyError\u001b[0m\u001b[1;33m(\u001b[0m\u001b[0mkey\u001b[0m\u001b[1;33m)\u001b[0m\u001b[1;33m\u001b[0m\u001b[1;33m\u001b[0m\u001b[0m\n\u001b[0m\u001b[0;32m   1252\u001b[0m         \u001b[1;32mreturn\u001b[0m \u001b[0mself\u001b[0m\u001b[1;33m.\u001b[0m\u001b[0m_parser\u001b[0m\u001b[1;33m.\u001b[0m\u001b[0mget\u001b[0m\u001b[1;33m(\u001b[0m\u001b[0mself\u001b[0m\u001b[1;33m.\u001b[0m\u001b[0m_name\u001b[0m\u001b[1;33m,\u001b[0m \u001b[0mkey\u001b[0m\u001b[1;33m)\u001b[0m\u001b[1;33m\u001b[0m\u001b[1;33m\u001b[0m\u001b[0m\n\u001b[0;32m   1253\u001b[0m \u001b[1;33m\u001b[0m\u001b[0m\n",
      "\u001b[1;31mKeyError\u001b[0m: 'pot'"
     ]
    }
   ],
   "source": [
    "config['redis']['pot']"
   ]
  },
  {
   "cell_type": "code",
   "execution_count": null,
   "metadata": {},
   "outputs": [],
   "source": []
  }
 ],
 "metadata": {
  "kernelspec": {
   "display_name": "Python 3",
   "language": "python",
   "name": "python3"
  },
  "language_info": {
   "codemirror_mode": {
    "name": "ipython",
    "version": 3
   },
   "file_extension": ".py",
   "mimetype": "text/x-python",
   "name": "python",
   "nbconvert_exporter": "python",
   "pygments_lexer": "ipython3",
   "version": "3.7.6"
  }
 },
 "nbformat": 4,
 "nbformat_minor": 4
}
