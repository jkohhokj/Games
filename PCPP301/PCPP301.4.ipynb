{
 "cells": [
  {
   "cell_type": "code",
   "execution_count": null,
   "metadata": {},
   "outputs": [
    {
     "name": "stdout",
     "output_type": "stream",
     "text": [
      "What server to connect to:www.google.com\n",
      "listened\n",
      "None\n"
     ]
    }
   ],
   "source": [
    "import socket\n",
    "server_addr = input('What server to connect to:')\n",
    "sock = socket.socket(socket.AF_INET,socket.SOCK_STREAM)\n",
    "sock.bind(('127.0.0.1',12345))\n",
    "# sock.connect((server_addr,80))\n",
    "sock.listen()\n",
    "print('listened')\n",
    "print(sock.listen())\n",
    "conn, addr = sock.accept()\n",
    "print(conn,addr)\n",
    "conn, addr = s.accept()\n",
    "with conn:\n",
    "    print('Connected by', addr)\n",
    "    while True:\n",
    "        data = conn.recv(1024)\n",
    "        if not data:\n",
    "            break\n",
    "        conn.sendall(data)"
   ]
  },
  {
   "cell_type": "code",
   "execution_count": 4,
   "metadata": {},
   "outputs": [
    {
     "name": "stdout",
     "output_type": "stream",
     "text": [
      "What server do you want to connect to? https://www.youtube.com/watch?v=C5cnZ-gZy2I\n"
     ]
    },
    {
     "ename": "gaierror",
     "evalue": "[Errno 11001] getaddrinfo failed",
     "output_type": "error",
     "traceback": [
      "\u001b[1;31m---------------------------------------------------------------------------\u001b[0m",
      "\u001b[1;31mgaierror\u001b[0m                                  Traceback (most recent call last)",
      "\u001b[1;32m<ipython-input-4-f0c422842960>\u001b[0m in \u001b[0;36m<module>\u001b[1;34m\u001b[0m\n\u001b[0;32m      3\u001b[0m \u001b[0mserver_addr\u001b[0m \u001b[1;33m=\u001b[0m \u001b[0minput\u001b[0m\u001b[1;33m(\u001b[0m\u001b[1;34m\"What server do you want to connect to? \"\u001b[0m\u001b[1;33m)\u001b[0m\u001b[1;33m\u001b[0m\u001b[1;33m\u001b[0m\u001b[0m\n\u001b[0;32m      4\u001b[0m \u001b[0msock\u001b[0m \u001b[1;33m=\u001b[0m \u001b[0msocket\u001b[0m\u001b[1;33m.\u001b[0m\u001b[0msocket\u001b[0m\u001b[1;33m(\u001b[0m\u001b[0msocket\u001b[0m\u001b[1;33m.\u001b[0m\u001b[0mAF_INET\u001b[0m\u001b[1;33m,\u001b[0m \u001b[0msocket\u001b[0m\u001b[1;33m.\u001b[0m\u001b[0mSOCK_STREAM\u001b[0m\u001b[1;33m)\u001b[0m\u001b[1;33m\u001b[0m\u001b[1;33m\u001b[0m\u001b[0m\n\u001b[1;32m----> 5\u001b[1;33m \u001b[0msock\u001b[0m\u001b[1;33m.\u001b[0m\u001b[0mconnect\u001b[0m\u001b[1;33m(\u001b[0m\u001b[1;33m(\u001b[0m\u001b[0mserver_addr\u001b[0m\u001b[1;33m,\u001b[0m \u001b[1;36m80\u001b[0m\u001b[1;33m)\u001b[0m\u001b[1;33m)\u001b[0m\u001b[1;33m\u001b[0m\u001b[1;33m\u001b[0m\u001b[0m\n\u001b[0m\u001b[0;32m      6\u001b[0m sock.send(b\"GET / HTTP/1.1\\r\\nHost: \" +\n\u001b[0;32m      7\u001b[0m           \u001b[0mbytes\u001b[0m\u001b[1;33m(\u001b[0m\u001b[0mserver_addr\u001b[0m\u001b[1;33m,\u001b[0m \u001b[1;34m\"utf8\"\u001b[0m\u001b[1;33m)\u001b[0m \u001b[1;33m+\u001b[0m\u001b[1;33m\u001b[0m\u001b[1;33m\u001b[0m\u001b[0m\n",
      "\u001b[1;31mgaierror\u001b[0m: [Errno 11001] getaddrinfo failed"
     ]
    }
   ],
   "source": [
    "import socket\n",
    "\n",
    "server_addr = input(\"What server do you want to connect to? \")\n",
    "sock = socket.socket(socket.AF_INET, socket.SOCK_STREAM)\n",
    "sock.connect((10.0.0.1, 12345))\n",
    "sock.send(b\"GET / HTTP/1.1\\r\\nHost: \" +\n",
    "          bytes(server_addr, \"utf8\") +\n",
    "          b\"\\r\\nConnection: close\\r\\n\\r\\n\")"
   ]
  },
  {
   "cell_type": "code",
   "execution_count": 8,
   "metadata": {},
   "outputs": [
    {
     "data": {
      "text/plain": [
       "bytes"
      ]
     },
     "execution_count": 8,
     "metadata": {},
     "output_type": "execute_result"
    }
   ],
   "source": [
    "type(b'something')"
   ]
  },
  {
   "cell_type": "code",
   "execution_count": 15,
   "metadata": {},
   "outputs": [
    {
     "name": "stdout",
     "output_type": "stream",
     "text": [
      "What server do you want to connect to? file:///C:/Users/JaydenKoh/HTML/index.html\n"
     ]
    },
    {
     "ename": "gaierror",
     "evalue": "[Errno 11001] getaddrinfo failed",
     "output_type": "error",
     "traceback": [
      "\u001b[1;31m---------------------------------------------------------------------------\u001b[0m",
      "\u001b[1;31mgaierror\u001b[0m                                  Traceback (most recent call last)",
      "\u001b[1;32m<ipython-input-15-b972df451864>\u001b[0m in \u001b[0;36m<module>\u001b[1;34m\u001b[0m\n\u001b[0;32m      3\u001b[0m \u001b[0mserver_addr\u001b[0m \u001b[1;33m=\u001b[0m \u001b[0minput\u001b[0m\u001b[1;33m(\u001b[0m\u001b[1;34m\"What server do you want to connect to? \"\u001b[0m\u001b[1;33m)\u001b[0m\u001b[1;33m\u001b[0m\u001b[1;33m\u001b[0m\u001b[0m\n\u001b[0;32m      4\u001b[0m \u001b[0msock\u001b[0m \u001b[1;33m=\u001b[0m \u001b[0msocket\u001b[0m\u001b[1;33m.\u001b[0m\u001b[0msocket\u001b[0m\u001b[1;33m(\u001b[0m\u001b[0msocket\u001b[0m\u001b[1;33m.\u001b[0m\u001b[0mAF_INET\u001b[0m\u001b[1;33m,\u001b[0m \u001b[0msocket\u001b[0m\u001b[1;33m.\u001b[0m\u001b[0mSOCK_STREAM\u001b[0m\u001b[1;33m)\u001b[0m\u001b[1;33m\u001b[0m\u001b[1;33m\u001b[0m\u001b[0m\n\u001b[1;32m----> 5\u001b[1;33m \u001b[0msock\u001b[0m\u001b[1;33m.\u001b[0m\u001b[0mconnect\u001b[0m\u001b[1;33m(\u001b[0m\u001b[1;33m(\u001b[0m\u001b[0mserver_addr\u001b[0m\u001b[1;33m,\u001b[0m \u001b[1;36m11111\u001b[0m\u001b[1;33m)\u001b[0m\u001b[1;33m)\u001b[0m\u001b[1;33m\u001b[0m\u001b[1;33m\u001b[0m\u001b[0m\n\u001b[0m\u001b[0;32m      6\u001b[0m sock.send(b\"GET / HTTP/1.1\\r\\nHost: \" +\n\u001b[0;32m      7\u001b[0m           \u001b[0mbytes\u001b[0m\u001b[1;33m(\u001b[0m\u001b[0mserver_addr\u001b[0m\u001b[1;33m,\u001b[0m \u001b[1;34m\"utf8\"\u001b[0m\u001b[1;33m)\u001b[0m \u001b[1;33m+\u001b[0m\u001b[1;33m\u001b[0m\u001b[1;33m\u001b[0m\u001b[0m\n",
      "\u001b[1;31mgaierror\u001b[0m: [Errno 11001] getaddrinfo failed"
     ]
    }
   ],
   "source": [
    "import socket\n",
    "\n",
    "server_addr = input(\"What server do you want to connect to? \")\n",
    "sock = socket.socket(socket.AF_INET, socket.SOCK_STREAM)\n",
    "sock.connect((server_addr, 11111))\n",
    "sock.send(b\"GET / HTTP/1.1\\r\\nHost: \" +\n",
    "          bytes(server_addr, \"utf8\") +\n",
    "          b\"\\r\\nConnection: close\\r\\n\\r\\n\")\n",
    "reply = sock.recv(10000)\n",
    "sock.shutdown(socket.SHUT_RDWR) # socket.SHUT_RD (no more reading) socket.SHUT_WR (no more writing)\n",
    "sock.close()\n",
    "print(repr(reply))"
   ]
  },
  {
   "cell_type": "code",
   "execution_count": 23,
   "metadata": {},
   "outputs": [
    {
     "name": "stdout",
     "output_type": "stream",
     "text": [
      "\"'text'\"\n",
      "{\"sasdf\": \"yes1\", \"asdf\": 52000.0}\n"
     ]
    }
   ],
   "source": [
    "import json\n",
    "text = \"'text'\"\n",
    "dic = {'sasdf':'yes1','asdf':52e3}\n",
    "print(json.dumps(text))\n",
    "print(json.dumps(dic))"
   ]
  },
  {
   "cell_type": "code",
   "execution_count": 189,
   "metadata": {},
   "outputs": [],
   "source": [
    "import math\n",
    "def sigfig(operation,val1,val2):\n",
    "    if type(val1) == int or float:\n",
    "        val1 = str(val1)\n",
    "    if type(val2) == int or float:\n",
    "        val2 = str(val2)\n",
    "    if operation == '*' or '/':\n",
    "        o = 'm'\n",
    "    if operation == '+' or '-':\n",
    "        o = 'a'\n",
    "    val1 = check_fakes(val1,o)\n",
    "    val2 = check_fakes(val2,o)\n",
    "    length = min(find_len(val1,o),find_len(val2,o))\n",
    "    val1 = float(val1)\n",
    "    val2 = float(val2)\n",
    "    if operation == '+':\n",
    "        final = val1 + val2\n",
    "    if operation == '-':\n",
    "        final = val1 - val2\n",
    "    if operation == '*':\n",
    "        final = val1 * val2\n",
    "    if operation == '/':\n",
    "        final = val1 / val2\n",
    "    final = rounding(final,o,length)\n",
    "    return final\n",
    "    # 'a' all relevant numbers\n",
    "    # 'm' all numbers after decimal\n",
    "def rounding(val,o,length):\n",
    "#     if len(val) > length:\n",
    "    val = str(val)\n",
    "    val_list = list(val)\n",
    "    decimal_place = 0\n",
    "    while val_list[decimal_place] != '.':\n",
    "        decimal_place += 1     \n",
    "    del val_list[decimal_place]\n",
    "\n",
    "    val = ''.join(val_list)\n",
    "    print(val)\n",
    "    if o == 'a':\n",
    "        if len(val) < length:\n",
    "            if int(val[length]) >= 5:\n",
    "                print(val[length])\n",
    "                print('round up')\n",
    "                val = val[0:length]\n",
    "                print(val)\n",
    "                val = str(int(val) + 1)\n",
    "            else:\n",
    "                print('round down')\n",
    "                val = val[0:length]\n",
    "        val_list = list(val)\n",
    "        val_list.insert(decimal_place,'.')\n",
    "        return ''.join(val_list)\n",
    "    past = val[decimal_place:]\n",
    "    print(past)\n",
    "    if o == 'm':\n",
    "        if len(past) > length:\n",
    "            \n",
    "            if int(past[length]) >= 5:\n",
    "                past = past[0:length]\n",
    "                past = str(int(past) + 1)\n",
    "            else:\n",
    "                print('round down')\n",
    "                past = past[0:length]\n",
    "        return val[0:decimal_place] + '.' + past\n",
    "def check_fakes(val,o):\n",
    "    zero = True\n",
    "    while zero == True:\n",
    "        if val[0] == '0':\n",
    "            val = val[1:]\n",
    "        else:\n",
    "            zero = False\n",
    "    if '.' not in val: \n",
    "        val += '.'\n",
    "    return val\n",
    "\n",
    "def find_len(val,o):\n",
    "    if '.' in val:\n",
    "        length = len(val) - 1\n",
    "    else:\n",
    "        length = len(val)\n",
    "    if o == 'a':\n",
    "        return length\n",
    "    if '.' in val:\n",
    "        val_list = list(val)\n",
    "        decimal_place = 0\n",
    "        while val_list[decimal_place] != '.':\n",
    "            decimal_place += 1    \n",
    "        return len(val) - decimal_place -1      \n",
    "        # mutliplication: number after '.' decimal_place = index of decimal\n",
    "        # addition: total number adding = total length\n",
    "        # zeroes in front"
   ]
  },
  {
   "cell_type": "code",
   "execution_count": 190,
   "metadata": {},
   "outputs": [
    {
     "name": "stdout",
     "output_type": "stream",
     "text": [
      "12312299999999999\n"
     ]
    },
    {
     "data": {
      "text/plain": [
       "'123.12299999999999'"
      ]
     },
     "execution_count": 190,
     "metadata": {},
     "output_type": "execute_result"
    }
   ],
   "source": [
    "sigfig('*',123.000,1.001)"
   ]
  },
  {
   "cell_type": "code",
   "execution_count": 139,
   "metadata": {},
   "outputs": [
    {
     "data": {
      "text/plain": [
       "3"
      ]
     },
     "execution_count": 139,
     "metadata": {},
     "output_type": "execute_result"
    }
   ],
   "source": [
    "find_len('2391004300000.000','m')"
   ]
  },
  {
   "cell_type": "code",
   "execution_count": 172,
   "metadata": {},
   "outputs": [
    {
     "name": "stdout",
     "output_type": "stream",
     "text": [
      "38485678965465465\n",
      "678965465465\n"
     ]
    },
    {
     "data": {
      "text/plain": [
       "'38485.68'"
      ]
     },
     "execution_count": 172,
     "metadata": {},
     "output_type": "execute_result"
    }
   ],
   "source": [
    "rounding('38485.678965465465','m',2)"
   ]
  },
  {
   "cell_type": "code",
   "execution_count": 74,
   "metadata": {},
   "outputs": [
    {
     "data": {
      "text/plain": [
       "'23423400.'"
      ]
     },
     "execution_count": 74,
     "metadata": {},
     "output_type": "execute_result"
    }
   ],
   "source": [
    "check_fakes('00023423400','a')"
   ]
  },
  {
   "cell_type": "code",
   "execution_count": 37,
   "metadata": {},
   "outputs": [
    {
     "name": "stdout",
     "output_type": "stream",
     "text": [
      "deleting\n",
      "deleting\n",
      "deleting\n",
      "deleting\n",
      "deleting\n",
      "deleting\n",
      "deleting\n",
      "deleting\n",
      "deleting\n",
      "deleting\n",
      "deleting\n",
      "deleting\n",
      "deleting\n",
      "2\n"
     ]
    }
   ],
   "source": [
    "val = '00000000000002'\n",
    "zero = True\n",
    "while zero == True:\n",
    "    if val[0] == '0':\n",
    "        print('deleting')\n",
    "        val = val[1:]\n",
    "    else:\n",
    "        zero = False\n",
    "print(val)"
   ]
  },
  {
   "cell_type": "code",
   "execution_count": 39,
   "metadata": {},
   "outputs": [
    {
     "data": {
      "text/plain": [
       "'0000000000000'"
      ]
     },
     "execution_count": 39,
     "metadata": {},
     "output_type": "execute_result"
    }
   ],
   "source": [
    "val = '00000000000002'\n",
    "val[0:-1]"
   ]
  },
  {
   "cell_type": "code",
   "execution_count": 43,
   "metadata": {},
   "outputs": [
    {
     "name": "stdout",
     "output_type": "stream",
     "text": [
      "deleting\n",
      "deleting\n",
      "deleting\n",
      "deleting\n",
      "deleting\n",
      "43323904000.00\n"
     ]
    }
   ],
   "source": [
    "o = 'm'\n",
    "val = '000004332390400000'\n",
    "zero = True\n",
    "while zero == True:\n",
    "    if val[0] == '0':\n",
    "        print('deleting')\n",
    "        val = val[1:]\n",
    "    else:\n",
    "        zero = False\n",
    "if o == 'm':\n",
    "    if '.' not in val:\n",
    "        zero = True\n",
    "        while zero == True:\n",
    "            if val[-1] == '0':\n",
    "                print('deleting')\n",
    "                val = val[0:-1]\n",
    "            else:\n",
    "                zero = False \n",
    "print(val)"
   ]
  },
  {
   "cell_type": "code",
   "execution_count": 84,
   "metadata": {},
   "outputs": [
    {
     "data": {
      "text/plain": [
       "21"
      ]
     },
     "execution_count": 84,
     "metadata": {},
     "output_type": "execute_result"
    }
   ],
   "source": [
    "from math import ceil\n",
    "ceil(20.92)"
   ]
  },
  {
   "cell_type": "code",
   "execution_count": null,
   "metadata": {},
   "outputs": [],
   "source": []
  }
 ],
 "metadata": {
  "kernelspec": {
   "display_name": "Python 3",
   "language": "python",
   "name": "python3"
  },
  "language_info": {
   "codemirror_mode": {
    "name": "ipython",
    "version": 3
   },
   "file_extension": ".py",
   "mimetype": "text/x-python",
   "name": "python",
   "nbconvert_exporter": "python",
   "pygments_lexer": "ipython3",
   "version": "3.7.6"
  }
 },
 "nbformat": 4,
 "nbformat_minor": 4
}
