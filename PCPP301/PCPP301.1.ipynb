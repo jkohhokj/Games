{
 "cells": [
  {
   "cell_type": "code",
   "execution_count": 5,
   "metadata": {},
   "outputs": [],
   "source": [
    "class Scanner():\n",
    "    def __init__():\n",
    "        pass\n",
    "    def scan():\n",
    "        print('scan')\n",
    "class Printer():\n",
    "    def __init__():\n",
    "        pass\n",
    "    def print():\n",
    "        print('printer print')\n",
    "class Fax():\n",
    "    def print():\n",
    "        print('fax print')\n",
    "    def send():\n",
    "        print('send')"
   ]
  },
  {
   "cell_type": "code",
   "execution_count": 6,
   "metadata": {},
   "outputs": [],
   "source": [
    "class MDFSPF(Scanner,Printer,Fax):\n",
    "    pass\n",
    "class MDFSFP(Scanner,Fax,Printer):\n",
    "    pass"
   ]
  },
  {
   "cell_type": "code",
   "execution_count": 9,
   "metadata": {},
   "outputs": [
    {
     "name": "stdout",
     "output_type": "stream",
     "text": [
      "printer print\n",
      "fax print\n"
     ]
    }
   ],
   "source": [
    "MDFSPF.print()\n",
    "MDFSFP.print()"
   ]
  },
  {
   "cell_type": "code",
   "execution_count": 81,
   "metadata": {},
   "outputs": [],
   "source": [
    "from datetime import datetime\n",
    "def add_time(func):\n",
    "    def wrapper(*args):\n",
    "        print('this is the datetime',datetime.now())\n",
    "        for x in args:\n",
    "            print('one more time')\n",
    "            print(func(x))\n",
    "    return wrapper"
   ]
  },
  {
   "cell_type": "code",
   "execution_count": 82,
   "metadata": {},
   "outputs": [],
   "source": [
    "def add_one(x):\n",
    "    return x + 1\n",
    "def minus_one(x):\n",
    "    return x - 1\n",
    "@add_time\n",
    "def print_out(x):\n",
    "    return f'print {x}'"
   ]
  },
  {
   "cell_type": "code",
   "execution_count": 70,
   "metadata": {},
   "outputs": [
    {
     "data": {
      "text/plain": [
       "0"
      ]
     },
     "execution_count": 70,
     "metadata": {},
     "output_type": "execute_result"
    }
   ],
   "source": [
    "minus_one(1)"
   ]
  },
  {
   "cell_type": "code",
   "execution_count": 83,
   "metadata": {},
   "outputs": [
    {
     "name": "stdout",
     "output_type": "stream",
     "text": [
      "this is the datetime 2020-09-10 17:30:24.471867\n",
      "one more time\n",
      "print 100000000000000000000000000000000000\n",
      "one more time\n",
      "print 123\n"
     ]
    }
   ],
   "source": [
    "print_out(100000000000000000000000000000000000,123)"
   ]
  },
  {
   "cell_type": "code",
   "execution_count": 3,
   "metadata": {},
   "outputs": [],
   "source": [
    "def decorator(func):\n",
    "    def inner(var):\n",
    "        func(var)\n",
    "        func(var)\n",
    "    return inner\n",
    "@decorator\n",
    "def xprint(var):\n",
    "    print('x',var)\n"
   ]
  },
  {
   "cell_type": "code",
   "execution_count": 5,
   "metadata": {},
   "outputs": [
    {
     "name": "stdout",
     "output_type": "stream",
     "text": [
      "x poop\n",
      "x poop\n"
     ]
    }
   ],
   "source": [
    "xprint('poop')"
   ]
  },
  {
   "cell_type": "code",
   "execution_count": 6,
   "metadata": {},
   "outputs": [],
   "source": [
    "class Yes():\n",
    "    __internal = 0\n",
    "    def __init__(self):\n",
    "        Yes.__internal += 1\n",
    "    @classmethod\n",
    "    def get_internal(cls):\n",
    "        return cls.__internal\n",
    "    "
   ]
  },
  {
   "cell_type": "code",
   "execution_count": 7,
   "metadata": {},
   "outputs": [
    {
     "data": {
      "text/plain": [
       "0"
      ]
     },
     "execution_count": 7,
     "metadata": {},
     "output_type": "execute_result"
    }
   ],
   "source": [
    "Yes.get_internal()"
   ]
  },
  {
   "cell_type": "code",
   "execution_count": 10,
   "metadata": {},
   "outputs": [
    {
     "data": {
      "text/plain": [
       "3"
      ]
     },
     "execution_count": 10,
     "metadata": {},
     "output_type": "execute_result"
    }
   ],
   "source": [
    "yes = Yes()\n",
    "yes.get_internal()"
   ]
  },
  {
   "cell_type": "code",
   "execution_count": 11,
   "metadata": {},
   "outputs": [],
   "source": [
    "class Dog():\n",
    "    def __init__(self,name):\n",
    "        print('og __init__')\n",
    "        self.name = name\n",
    "        self.breed = ''\n",
    "    @classmethod\n",
    "    def add_breed(cls,name,breed):\n",
    "        print('new __init__ by the class method')\n",
    "        _dog = cls(name)\n",
    "        _dog.breed = breed\n",
    "        return _dog "
   ]
  },
  {
   "cell_type": "code",
   "execution_count": 22,
   "metadata": {},
   "outputs": [
    {
     "name": "stdout",
     "output_type": "stream",
     "text": [
      "og __init__\n"
     ]
    },
    {
     "data": {
      "text/plain": [
       "''"
      ]
     },
     "execution_count": 22,
     "metadata": {},
     "output_type": "execute_result"
    }
   ],
   "source": [
    "dog = Dog('tim')\n",
    "dog.name\n",
    "dog.breed"
   ]
  },
  {
   "cell_type": "code",
   "execution_count": 21,
   "metadata": {},
   "outputs": [
    {
     "name": "stdout",
     "output_type": "stream",
     "text": [
      "new __init__ by the class method\n",
      "og __init__\n",
      "bob\n",
      "retriever\n"
     ]
    }
   ],
   "source": [
    "dog2 = Dog.add_breed('bob','retriever')\n",
    "print(dog2.name)\n",
    "print(dog2.breed)\n"
   ]
  },
  {
   "cell_type": "code",
   "execution_count": 109,
   "metadata": {},
   "outputs": [],
   "source": [
    "# class Error(BaseException):\n",
    "    \n",
    "class Watch():\n",
    "    created = 0\n",
    "    def __init__(self):\n",
    "        Watch.created += 1\n",
    "        self.text = ''\n",
    "    @classmethod\n",
    "    def engraved_watch(cls,text):\n",
    "        _watch = cls()\n",
    "        _watch.text = text\n",
    "        if Watch.validate(_watch):\n",
    "            return _watch\n",
    "        else:\n",
    "            raise Exception('oops')\n",
    "    @staticmethod\n",
    "    def validate(instance):\n",
    "        print(instance.text)\n",
    "        if len(instance.text) <= 40:\n",
    "            for char in instance.text:\n",
    "                if not char.isalnum():\n",
    "                    return False\n",
    "            return True\n",
    "            \n",
    "        else:\n",
    "            return False"
   ]
  },
  {
   "cell_type": "code",
   "execution_count": 110,
   "metadata": {},
   "outputs": [],
   "source": [
    "mywatch = Watch()\n",
    "mywatch.text = ' '"
   ]
  },
  {
   "cell_type": "code",
   "execution_count": 111,
   "metadata": {},
   "outputs": [
    {
     "name": "stdout",
     "output_type": "stream",
     "text": [
      " \n"
     ]
    },
    {
     "data": {
      "text/plain": [
       "False"
      ]
     },
     "execution_count": 111,
     "metadata": {},
     "output_type": "execute_result"
    }
   ],
   "source": [
    "Watch.validate(mywatch)"
   ]
  },
  {
   "cell_type": "code",
   "execution_count": 114,
   "metadata": {},
   "outputs": [
    {
     "data": {
      "text/plain": [
       "2"
      ]
     },
     "execution_count": 114,
     "metadata": {},
     "output_type": "execute_result"
    }
   ],
   "source": [
    "Watch.created"
   ]
  },
  {
   "cell_type": "code",
   "execution_count": 113,
   "metadata": {},
   "outputs": [
    {
     "name": "stdout",
     "output_type": "stream",
     "text": [
      "9392\n"
     ]
    },
    {
     "data": {
      "text/plain": [
       "'9392'"
      ]
     },
     "execution_count": 113,
     "metadata": {},
     "output_type": "execute_result"
    }
   ],
   "source": [
    "newwatch = Watch.engraved_watch('9392')\n",
    "newwatch.text"
   ]
  },
  {
   "cell_type": "code",
   "execution_count": 94,
   "metadata": {},
   "outputs": [
    {
     "data": {
      "text/plain": [
       "True"
      ]
     },
     "execution_count": 94,
     "metadata": {},
     "output_type": "execute_result"
    }
   ],
   "source": [
    "'a'.isalnum()"
   ]
  },
  {
   "cell_type": "code",
   "execution_count": 124,
   "metadata": {},
   "outputs": [],
   "source": [
    "import abc\n",
    "from random import randint\n",
    "class Scanner(abc.ABC):\n",
    "    def scan_doc(self):\n",
    "        pass\n",
    "    def get_scan_stat(self):\n",
    "        pass\n",
    "class Printer(abc.ABC):\n",
    "    def print_doc(self):\n",
    "        pass\n",
    "    def get_print_stat(self):\n",
    "        pass\n",
    "    \n",
    "class MFD1(Scanner,Printer):\n",
    "    def scan_doc(self):\n",
    "        return randint(1,100000),'has been scanned'\n",
    "    def get_scan_stat(self):\n",
    "        return 'succ'\n",
    "    def print_doc(self):\n",
    "        return randint(1,100000),'has been printed'\n",
    "    def get_print_stat(self):\n",
    "        return 'succ'\n",
    "class MFD2(Scanner,Printer):\n",
    "    def scan_doc(self):\n",
    "        return randint(1,100000),'has been scanned'\n",
    "    def get_scan_stat(self):\n",
    "        return 'eh'\n",
    "    def print_doc(self):\n",
    "        return randint(1,100000),'has been printed'\n",
    "    def get_print_stat(self):\n",
    "        return 'eh'    \n",
    "    def dance_for_me(self):\n",
    "        return 'dancing'\n",
    "class MFD3(Scanner,Printer):\n",
    "#     def scan_doc(self):\n",
    "#         return randint(1,100000),'has been scanned'\n",
    "    def get_scan_stat(self):\n",
    "        return 'decent'\n",
    "    def print_doc(self):\n",
    "        return randint(1,100000),'has been printed'\n",
    "    def get_print_stat(self):\n",
    "        return 'decent'\n",
    "    def dance_for_me(self):\n",
    "        return 'wheeeeeeee'\n",
    "    def amazing(self):\n",
    "        return 'SUGEIIIIIIIIIIIIIIII-------------'"
   ]
  },
  {
   "cell_type": "code",
   "execution_count": 125,
   "metadata": {},
   "outputs": [],
   "source": [
    "mfd1 = MFD1()\n",
    "mfd2 = MFD2()\n",
    "mfd3 = MFD3()"
   ]
  },
  {
   "cell_type": "code",
   "execution_count": 127,
   "metadata": {},
   "outputs": [
    {
     "name": "stdout",
     "output_type": "stream",
     "text": [
      "(41553, 'has been printed')\n",
      "None\n"
     ]
    }
   ],
   "source": [
    "print(mfd2.print_doc())\n",
    "print(mfd3.scan_doc())"
   ]
  },
  {
   "cell_type": "code",
   "execution_count": 170,
   "metadata": {},
   "outputs": [],
   "source": [
    "class BankAccount():\n",
    "    def __init__(self,balance):\n",
    "        self.__balance = balance\n",
    "    @property\n",
    "    def balance(self):\n",
    "        return self.__balance\n",
    "    @balance.setter\n",
    "    def balance(self,value):\n",
    "        self.__balance = value\n",
    "    @balance.deleter\n",
    "    def balance(self):\n",
    "        self.__balance = None"
   ]
  },
  {
   "cell_type": "code",
   "execution_count": 171,
   "metadata": {},
   "outputs": [],
   "source": [
    "mybankaccount = BankAccount(100)"
   ]
  },
  {
   "cell_type": "code",
   "execution_count": 172,
   "metadata": {},
   "outputs": [
    {
     "name": "stdout",
     "output_type": "stream",
     "text": [
      "100\n"
     ]
    },
    {
     "ename": "AttributeError",
     "evalue": "can't set attribute",
     "output_type": "error",
     "traceback": [
      "\u001b[1;31m---------------------------------------------------------------------------\u001b[0m",
      "\u001b[1;31mAttributeError\u001b[0m                            Traceback (most recent call last)",
      "\u001b[1;32m<ipython-input-172-25ed00e1087d>\u001b[0m in \u001b[0;36m<module>\u001b[1;34m\u001b[0m\n\u001b[0;32m      1\u001b[0m \u001b[0mprint\u001b[0m\u001b[1;33m(\u001b[0m\u001b[0mmybankaccount\u001b[0m\u001b[1;33m.\u001b[0m\u001b[0mbalance\u001b[0m\u001b[1;33m)\u001b[0m\u001b[1;33m\u001b[0m\u001b[1;33m\u001b[0m\u001b[0m\n\u001b[1;32m----> 2\u001b[1;33m \u001b[0mmybankaccount\u001b[0m\u001b[1;33m.\u001b[0m\u001b[0mbalance\u001b[0m \u001b[1;33m+=\u001b[0m \u001b[1;36m10\u001b[0m\u001b[1;33m\u001b[0m\u001b[1;33m\u001b[0m\u001b[0m\n\u001b[0m\u001b[0;32m      3\u001b[0m \u001b[0mprint\u001b[0m\u001b[1;33m(\u001b[0m\u001b[0mmybankaccount\u001b[0m\u001b[1;33m.\u001b[0m\u001b[0mbalance\u001b[0m\u001b[1;33m)\u001b[0m\u001b[1;33m\u001b[0m\u001b[1;33m\u001b[0m\u001b[0m\n\u001b[0;32m      4\u001b[0m \u001b[1;32mdel\u001b[0m \u001b[0mmybankaccount\u001b[0m\u001b[1;33m.\u001b[0m\u001b[0mbalance\u001b[0m\u001b[1;33m\u001b[0m\u001b[1;33m\u001b[0m\u001b[0m\n\u001b[0;32m      5\u001b[0m \u001b[0mprint\u001b[0m\u001b[1;33m(\u001b[0m\u001b[0mmybankaccount\u001b[0m\u001b[1;33m.\u001b[0m\u001b[0mbalance\u001b[0m\u001b[1;33m)\u001b[0m\u001b[1;33m\u001b[0m\u001b[1;33m\u001b[0m\u001b[0m\n",
      "\u001b[1;31mAttributeError\u001b[0m: can't set attribute"
     ]
    }
   ],
   "source": [
    "print(mybankaccount.balance)\n",
    "mybankaccount.balance += 10\n",
    "print(mybankaccount.balance)\n",
    "del mybankaccount.balance\n",
    "print(mybankaccount.balance)"
   ]
  },
  {
   "cell_type": "code",
   "execution_count": 196,
   "metadata": {},
   "outputs": [],
   "source": [
    "from random import randint\n",
    "class Tires():\n",
    "    def __init__(self,max_pressure,size):\n",
    "        self.size = size\n",
    "        self.pressure = max_pressure\n",
    "        self.max_pressure = max_pressure\n",
    "        self.pressure -= randint(0,self.max_pressure)\n",
    "    def pump(self):\n",
    "        self.pressure = self.max_pressure\n",
    "    def get_pressure(self):\n",
    "        return self.pressure\n",
    "class Engine():\n",
    "    def _init__(self,fuel_type):\n",
    "        self.fuel_type = fuel_type\n",
    "    def stop(self):\n",
    "        print('the engine is stopping')\n",
    "    def start(self):\n",
    "        print('the engine is starting')\n",
    "    def get_state(self):\n",
    "        print(self.fuel_type)\n",
    "class CityCar(Tires,Engine):\n",
    "    def __init__(self):\n",
    "        super().__init__(30,15)\n",
    "        self.fuel_type = 'petrol'"
   ]
  },
  {
   "cell_type": "code",
   "execution_count": 197,
   "metadata": {},
   "outputs": [],
   "source": [
    "citycar = CityCar()"
   ]
  },
  {
   "cell_type": "code",
   "execution_count": 198,
   "metadata": {},
   "outputs": [
    {
     "data": {
      "text/plain": [
       "30"
      ]
     },
     "execution_count": 198,
     "metadata": {},
     "output_type": "execute_result"
    }
   ],
   "source": [
    "citycar.pump()\n",
    "citycar.get_pressure()"
   ]
  },
  {
   "cell_type": "code",
   "execution_count": 199,
   "metadata": {},
   "outputs": [
    {
     "data": {
      "text/plain": [
       "'petrol'"
      ]
     },
     "execution_count": 199,
     "metadata": {},
     "output_type": "execute_result"
    }
   ],
   "source": [
    "citycar.fuel_type"
   ]
  },
  {
   "cell_type": "code",
   "execution_count": 201,
   "metadata": {},
   "outputs": [
    {
     "data": {
      "text/plain": [
       "[__main__.CityCar, __main__.Tires, __main__.Engine, object]"
      ]
     },
     "execution_count": 201,
     "metadata": {},
     "output_type": "execute_result"
    }
   ],
   "source": [
    "CityCar.mro()"
   ]
  },
  {
   "cell_type": "code",
   "execution_count": 97,
   "metadata": {},
   "outputs": [],
   "source": [
    "from datetime import datetime\n",
    "class MonitoredDict(dict):\n",
    "    def __init__(self):\n",
    "        self.log = list()\n",
    "        super().__init__()        \n",
    "    def addlog(self,action,item):\n",
    "        now = datetime.now()\n",
    "        self.log.append(f'{item} was {action} on {now}')\n",
    "    def __setitem__(self,k,v):\n",
    "        super().__setitem__(k,v)\n",
    "        self.addlog('set_item',(k,v))\n",
    "    def __getitem__(self,k):\n",
    "        super().__getitem__(k)\n",
    "        self.addlog('get_item',(k))"
   ]
  },
  {
   "cell_type": "code",
   "execution_count": 98,
   "metadata": {},
   "outputs": [],
   "source": [
    "mydict = MonitoredDict()"
   ]
  },
  {
   "cell_type": "code",
   "execution_count": 99,
   "metadata": {},
   "outputs": [],
   "source": [
    "mydict[0] = 'a'\n",
    "mydict[1] = 'asdfasd'"
   ]
  },
  {
   "cell_type": "code",
   "execution_count": 102,
   "metadata": {},
   "outputs": [
    {
     "data": {
      "text/plain": [
       "[\"(0, 'a') was set_item on 2020-09-12 15:18:55.059657\",\n",
       " \"(1, 'asdfasd') was set_item on 2020-09-12 15:18:55.059657\",\n",
       " '0 was get_item on 2020-09-12 15:18:55.779651']"
      ]
     },
     "execution_count": 102,
     "metadata": {},
     "output_type": "execute_result"
    }
   ],
   "source": [
    "mydict.log"
   ]
  },
  {
   "cell_type": "code",
   "execution_count": 101,
   "metadata": {},
   "outputs": [],
   "source": [
    "mydict[0]"
   ]
  },
  {
   "cell_type": "code",
   "execution_count": 125,
   "metadata": {},
   "outputs": [
    {
     "name": "stdout",
     "output_type": "stream",
     "text": [
      "invalid literal for int() with base 10: 'asd'\n",
      "(\"invalid literal for int() with base 10: 'asd'\",)\n"
     ]
    },
    {
     "ename": "AttributeError",
     "evalue": "'ValueError' object has no attribute 'name'",
     "output_type": "error",
     "traceback": [
      "\u001b[1;31m---------------------------------------------------------------------------\u001b[0m",
      "\u001b[1;31mValueError\u001b[0m                                Traceback (most recent call last)",
      "\u001b[1;32m<ipython-input-125-cb9a7fa8c66e>\u001b[0m in \u001b[0;36m<module>\u001b[1;34m\u001b[0m\n\u001b[0;32m      1\u001b[0m \u001b[1;32mtry\u001b[0m\u001b[1;33m:\u001b[0m\u001b[1;33m\u001b[0m\u001b[1;33m\u001b[0m\u001b[0m\n\u001b[1;32m----> 2\u001b[1;33m     \u001b[0mint\u001b[0m\u001b[1;33m(\u001b[0m\u001b[1;34m'asd'\u001b[0m\u001b[1;33m)\u001b[0m\u001b[1;33m\u001b[0m\u001b[1;33m\u001b[0m\u001b[0m\n\u001b[0m\u001b[0;32m      3\u001b[0m \u001b[1;32mexcept\u001b[0m \u001b[0mValueError\u001b[0m \u001b[1;32mas\u001b[0m \u001b[0me\u001b[0m\u001b[1;33m:\u001b[0m\u001b[1;33m\u001b[0m\u001b[1;33m\u001b[0m\u001b[0m\n",
      "\u001b[1;31mValueError\u001b[0m: invalid literal for int() with base 10: 'asd'",
      "\nDuring handling of the above exception, another exception occurred:\n",
      "\u001b[1;31mAttributeError\u001b[0m                            Traceback (most recent call last)",
      "\u001b[1;32m<ipython-input-125-cb9a7fa8c66e>\u001b[0m in \u001b[0;36m<module>\u001b[1;34m\u001b[0m\n\u001b[0;32m      4\u001b[0m     \u001b[0mprint\u001b[0m\u001b[1;33m(\u001b[0m\u001b[0me\u001b[0m\u001b[1;33m)\u001b[0m\u001b[1;33m\u001b[0m\u001b[1;33m\u001b[0m\u001b[0m\n\u001b[0;32m      5\u001b[0m     \u001b[0mprint\u001b[0m\u001b[1;33m(\u001b[0m\u001b[0me\u001b[0m\u001b[1;33m.\u001b[0m\u001b[0margs\u001b[0m\u001b[1;33m)\u001b[0m\u001b[1;33m\u001b[0m\u001b[1;33m\u001b[0m\u001b[0m\n\u001b[1;32m----> 6\u001b[1;33m     \u001b[0mprint\u001b[0m\u001b[1;33m(\u001b[0m\u001b[0me\u001b[0m\u001b[1;33m.\u001b[0m\u001b[0mname\u001b[0m\u001b[1;33m)\u001b[0m\u001b[1;33m\u001b[0m\u001b[1;33m\u001b[0m\u001b[0m\n\u001b[0m\u001b[0;32m      7\u001b[0m     \u001b[0mprint\u001b[0m\u001b[1;33m(\u001b[0m\u001b[0me\u001b[0m\u001b[1;33m.\u001b[0m\u001b[0mpath\u001b[0m\u001b[1;33m)\u001b[0m\u001b[1;33m\u001b[0m\u001b[1;33m\u001b[0m\u001b[0m\n\u001b[0;32m      8\u001b[0m     \u001b[0mprint\u001b[0m\u001b[1;33m(\u001b[0m\u001b[0me\u001b[0m\u001b[1;33m.\u001b[0m\u001b[0mencoding\u001b[0m\u001b[1;33m)\u001b[0m\u001b[1;33m\u001b[0m\u001b[1;33m\u001b[0m\u001b[0m\n",
      "\u001b[1;31mAttributeError\u001b[0m: 'ValueError' object has no attribute 'name'"
     ]
    }
   ],
   "source": [
    "try:\n",
    "    int('asd')\n",
    "except ValueError as e:\n",
    "    print(e)\n",
    "    print(e.args)\n",
    "    print(e.name)\n",
    "    print(e.path)\n",
    "    print(e.encoding)\n",
    "    print(e.reason)"
   ]
  },
  {
   "cell_type": "code",
   "execution_count": 107,
   "metadata": {},
   "outputs": [
    {
     "data": {
      "text/plain": [
       "['__cause__',\n",
       " '__class__',\n",
       " '__context__',\n",
       " '__delattr__',\n",
       " '__dict__',\n",
       " '__dir__',\n",
       " '__doc__',\n",
       " '__eq__',\n",
       " '__format__',\n",
       " '__ge__',\n",
       " '__getattribute__',\n",
       " '__gt__',\n",
       " '__hash__',\n",
       " '__init__',\n",
       " '__init_subclass__',\n",
       " '__le__',\n",
       " '__lt__',\n",
       " '__ne__',\n",
       " '__new__',\n",
       " '__reduce__',\n",
       " '__reduce_ex__',\n",
       " '__repr__',\n",
       " '__setattr__',\n",
       " '__setstate__',\n",
       " '__sizeof__',\n",
       " '__str__',\n",
       " '__subclasshook__',\n",
       " '__suppress_context__',\n",
       " '__traceback__',\n",
       " 'args',\n",
       " 'with_traceback']"
      ]
     },
     "execution_count": 107,
     "metadata": {},
     "output_type": "execute_result"
    }
   ],
   "source": [
    "dir(Exception)"
   ]
  },
  {
   "cell_type": "code",
   "execution_count": 126,
   "metadata": {},
   "outputs": [
    {
     "name": "stdout",
     "output_type": "stream",
     "text": [
      "'utf-8' codec can't decode byte 0x80 in position 0: invalid start byte\n",
      "utf-8\n",
      "invalid start byte\n",
      "b'\\x80'\n",
      "0\n",
      "1\n"
     ]
    }
   ],
   "source": [
    "try:\n",
    "    b'\\x80'.decode(\"utf-8\")\n",
    "except UnicodeError as e: # only for unicode\n",
    "    print(e)\n",
    "    print(e.encoding)\n",
    "    print(e.reason)\n",
    "    print(e.object)\n",
    "    print(e.start)\n",
    "    print(e.end)\n",
    "    "
   ]
  },
  {
   "cell_type": "code",
   "execution_count": 150,
   "metadata": {},
   "outputs": [
    {
     "name": "stdout",
     "output_type": "stream",
     "text": [
      "list index out of range None\n"
     ]
    },
    {
     "ename": "myError",
     "evalue": "i wroteith is",
     "output_type": "error",
     "traceback": [
      "\u001b[1;31m---------------------------------------------------------------------------\u001b[0m",
      "\u001b[1;31mIndexError\u001b[0m                                Traceback (most recent call last)",
      "\u001b[1;32m<ipython-input-150-f85161a4296a>\u001b[0m in \u001b[0;36m<module>\u001b[1;34m\u001b[0m\n\u001b[0;32m      6\u001b[0m \u001b[1;32mtry\u001b[0m\u001b[1;33m:\u001b[0m\u001b[1;33m\u001b[0m\u001b[1;33m\u001b[0m\u001b[0m\n\u001b[1;32m----> 7\u001b[1;33m     \u001b[0mprint\u001b[0m\u001b[1;33m(\u001b[0m\u001b[0ma_list\u001b[0m\u001b[1;33m[\u001b[0m\u001b[1;36m36\u001b[0m\u001b[1;33m]\u001b[0m\u001b[1;33m)\u001b[0m\u001b[1;33m\u001b[0m\u001b[1;33m\u001b[0m\u001b[0m\n\u001b[0m\u001b[0;32m      8\u001b[0m \u001b[1;32mexcept\u001b[0m \u001b[0mException\u001b[0m \u001b[1;32mas\u001b[0m \u001b[0mf\u001b[0m\u001b[1;33m:\u001b[0m\u001b[1;33m\u001b[0m\u001b[1;33m\u001b[0m\u001b[0m\n",
      "\u001b[1;31mIndexError\u001b[0m: list index out of range",
      "\nDuring handling of the above exception, another exception occurred:\n",
      "\u001b[1;31mmyError\u001b[0m                                   Traceback (most recent call last)",
      "\u001b[1;32m<ipython-input-150-f85161a4296a>\u001b[0m in \u001b[0;36m<module>\u001b[1;34m\u001b[0m\n\u001b[0;32m      8\u001b[0m \u001b[1;32mexcept\u001b[0m \u001b[0mException\u001b[0m \u001b[1;32mas\u001b[0m \u001b[0mf\u001b[0m\u001b[1;33m:\u001b[0m\u001b[1;33m\u001b[0m\u001b[1;33m\u001b[0m\u001b[0m\n\u001b[0;32m      9\u001b[0m     \u001b[0mprint\u001b[0m\u001b[1;33m(\u001b[0m\u001b[0mf\u001b[0m\u001b[1;33m,\u001b[0m\u001b[0mf\u001b[0m\u001b[1;33m.\u001b[0m\u001b[0m__context__\u001b[0m\u001b[1;33m)\u001b[0m\u001b[1;33m\u001b[0m\u001b[1;33m\u001b[0m\u001b[0m\n\u001b[1;32m---> 10\u001b[1;33m     \u001b[0mmyfuncwentwrong\u001b[0m\u001b[1;33m(\u001b[0m\u001b[1;33m)\u001b[0m \u001b[1;31m# explicit\u001b[0m\u001b[1;33m\u001b[0m\u001b[1;33m\u001b[0m\u001b[0m\n\u001b[0m\u001b[0;32m     11\u001b[0m \u001b[1;33m\u001b[0m\u001b[0m\n\u001b[0;32m     12\u001b[0m \u001b[1;33m\u001b[0m\u001b[0m\n",
      "\u001b[1;32m<ipython-input-150-f85161a4296a>\u001b[0m in \u001b[0;36mmyfuncwentwrong\u001b[1;34m()\u001b[0m\n\u001b[0;32m      3\u001b[0m     \u001b[1;32mpass\u001b[0m\u001b[1;33m\u001b[0m\u001b[1;33m\u001b[0m\u001b[0m\n\u001b[0;32m      4\u001b[0m \u001b[1;32mdef\u001b[0m \u001b[0mmyfuncwentwrong\u001b[0m\u001b[1;33m(\u001b[0m\u001b[1;33m)\u001b[0m\u001b[1;33m:\u001b[0m\u001b[1;33m\u001b[0m\u001b[1;33m\u001b[0m\u001b[0m\n\u001b[1;32m----> 5\u001b[1;33m     \u001b[1;32mraise\u001b[0m \u001b[0mmyError\u001b[0m\u001b[1;33m(\u001b[0m\u001b[1;34m'i wroteith is'\u001b[0m\u001b[1;33m)\u001b[0m\u001b[1;33m\u001b[0m\u001b[1;33m\u001b[0m\u001b[0m\n\u001b[0m\u001b[0;32m      6\u001b[0m \u001b[1;32mtry\u001b[0m\u001b[1;33m:\u001b[0m\u001b[1;33m\u001b[0m\u001b[1;33m\u001b[0m\u001b[0m\n\u001b[0;32m      7\u001b[0m     \u001b[0mprint\u001b[0m\u001b[1;33m(\u001b[0m\u001b[0ma_list\u001b[0m\u001b[1;33m[\u001b[0m\u001b[1;36m36\u001b[0m\u001b[1;33m]\u001b[0m\u001b[1;33m)\u001b[0m\u001b[1;33m\u001b[0m\u001b[1;33m\u001b[0m\u001b[0m\n",
      "\u001b[1;31mmyError\u001b[0m: i wroteith is"
     ]
    }
   ],
   "source": [
    "a_list = ['First error', 'Second error']\n",
    "class myError(Exception):\n",
    "    pass\n",
    "def myfuncwentwrong():\n",
    "    raise myError('i wroteith is')\n",
    "try:\n",
    "    print(a_list[36])\n",
    "except Exception as f:\n",
    "    print(f,f.__context__)\n",
    "    myfuncwentwrong() # explicit\n",
    "    \n",
    "    "
   ]
  },
  {
   "cell_type": "code",
   "execution_count": 131,
   "metadata": {},
   "outputs": [
    {
     "ename": "ZeroDivisionError",
     "evalue": "division by zero",
     "output_type": "error",
     "traceback": [
      "\u001b[1;31m---------------------------------------------------------------------------\u001b[0m",
      "\u001b[1;31mIndexError\u001b[0m                                Traceback (most recent call last)",
      "\u001b[1;32m<ipython-input-131-5a253131d255>\u001b[0m in \u001b[0;36m<module>\u001b[1;34m\u001b[0m\n\u001b[0;32m      4\u001b[0m \u001b[1;32mtry\u001b[0m\u001b[1;33m:\u001b[0m\u001b[1;33m\u001b[0m\u001b[1;33m\u001b[0m\u001b[0m\n\u001b[1;32m----> 5\u001b[1;33m     \u001b[0mprint\u001b[0m\u001b[1;33m(\u001b[0m\u001b[0ma_list\u001b[0m\u001b[1;33m[\u001b[0m\u001b[1;36m3\u001b[0m\u001b[1;33m]\u001b[0m\u001b[1;33m)\u001b[0m\u001b[1;33m\u001b[0m\u001b[1;33m\u001b[0m\u001b[0m\n\u001b[0m\u001b[0;32m      6\u001b[0m \u001b[1;32mexcept\u001b[0m \u001b[0mException\u001b[0m \u001b[1;32mas\u001b[0m \u001b[0me\u001b[0m\u001b[1;33m:\u001b[0m\u001b[1;33m\u001b[0m\u001b[1;33m\u001b[0m\u001b[0m\n",
      "\u001b[1;31mIndexError\u001b[0m: list index out of range",
      "\nDuring handling of the above exception, another exception occurred:\n",
      "\u001b[1;31mZeroDivisionError\u001b[0m                         Traceback (most recent call last)",
      "\u001b[1;32m<ipython-input-131-5a253131d255>\u001b[0m in \u001b[0;36m<module>\u001b[1;34m\u001b[0m\n\u001b[0;32m      5\u001b[0m     \u001b[0mprint\u001b[0m\u001b[1;33m(\u001b[0m\u001b[0ma_list\u001b[0m\u001b[1;33m[\u001b[0m\u001b[1;36m3\u001b[0m\u001b[1;33m]\u001b[0m\u001b[1;33m)\u001b[0m\u001b[1;33m\u001b[0m\u001b[1;33m\u001b[0m\u001b[0m\n\u001b[0;32m      6\u001b[0m \u001b[1;32mexcept\u001b[0m \u001b[0mException\u001b[0m \u001b[1;32mas\u001b[0m \u001b[0me\u001b[0m\u001b[1;33m:\u001b[0m\u001b[1;33m\u001b[0m\u001b[1;33m\u001b[0m\u001b[0m\n\u001b[1;32m----> 7\u001b[1;33m     \u001b[1;36m0\u001b[0m\u001b[1;33m/\u001b[0m\u001b[1;36m0\u001b[0m\u001b[1;33m\u001b[0m\u001b[1;33m\u001b[0m\u001b[0m\n\u001b[0m",
      "\u001b[1;31mZeroDivisionError\u001b[0m: division by zero"
     ]
    }
   ],
   "source": [
    "a_list = ['First error', 'Second error']\n",
    "class myError(Exception):\n",
    "    pass\n",
    "try:\n",
    "    print(a_list[3])\n",
    "except Exception as e: # implicit\n",
    "    0/0"
   ]
  },
  {
   "cell_type": "code",
   "execution_count": 1,
   "metadata": {},
   "outputs": [
    {
     "name": "stdout",
     "output_type": "stream",
     "text": [
      "i wrotethi stoo name 'X' is not defined and name 'X' is not defined\n",
      "None\n"
     ]
    },
    {
     "name": "stderr",
     "output_type": "stream",
     "text": [
      "  File \"<ipython-input-1-3a501ca560d1>\", line 10, in <module>\n",
      "    myfunc()\n",
      "  File \"<ipython-input-1-3a501ca560d1>\", line 8, in myfunc\n",
      "    raise myException('i wrotethi stoo') from e\n"
     ]
    }
   ],
   "source": [
    "import traceback\n",
    "class myException(Exception):\n",
    "    pass\n",
    "def myfunc():\n",
    "    try:\n",
    "        print(X)\n",
    "    except Exception as e:\n",
    "        raise myException('i wrotethi stoo') from e\n",
    "try:\n",
    "    myfunc()\n",
    "except Exception as e:\n",
    "    print(e,e.__cause__,'and',e.__context__)\n",
    "    details = traceback.print_tb(e.__traceback__)\n",
    "    print(details)"
   ]
  },
  {
   "cell_type": "code",
   "execution_count": 5,
   "metadata": {},
   "outputs": [
    {
     "name": "stdout",
     "output_type": "stream",
     "text": [
      "True\n",
      "True\n",
      "\n",
      "\n",
      "\n",
      "True\n",
      "False\n"
     ]
    }
   ],
   "source": [
    "astring = 'omg!'\n",
    "bstring = astring\n",
    "print(astring == bstring)\n",
    "print(astring is bstring)\n",
    "# both point to the same place in the memory\n",
    "print('\\n\\n')\n",
    "astring = 'omg!'\n",
    "bstring = 'omg!'\n",
    "print(astring == bstring)\n",
    "print(astring is bstring)\n",
    "# same content but points to different places in memory"
   ]
  },
  {
   "cell_type": "code",
   "execution_count": 34,
   "metadata": {},
   "outputs": [
    {
     "name": "stdout",
     "output_type": "stream",
     "text": [
      "True\n",
      "True\n",
      "True\n",
      "pppp\n",
      "asdfasdfsdfadf\n"
     ]
    }
   ],
   "source": [
    "import copy\n",
    "astring = 'asdfasdfsdfadf'\n",
    "bstring = copy.copy(astring)\n",
    "print(id(astring) == id(bstring))\n",
    "print(astring == bstring)\n",
    "print(astring is bstring)\n",
    "# shallow same mem spot\n",
    "astring = 'pppp'\n",
    "print(astring)\n",
    "print(bstring)"
   ]
  },
  {
   "cell_type": "code",
   "execution_count": 33,
   "metadata": {},
   "outputs": [
    {
     "name": "stdout",
     "output_type": "stream",
     "text": [
      "True\n",
      "asdfasdfsdfadf\n",
      "puopopuiiop\n"
     ]
    }
   ],
   "source": [
    "astring = 'asdfasdfsdfadf'\n",
    "bstring = copy.deepcopy(astring)\n",
    "print(id(astring) == id(bstring))\n",
    "bstring = 'puopopuiiop'\n",
    "print(astring)\n",
    "print(bstring)"
   ]
  },
  {
   "cell_type": "code",
   "execution_count": 25,
   "metadata": {},
   "outputs": [
    {
     "name": "stdout",
     "output_type": "stream",
     "text": [
      "The original elements before deep copying\n",
      "1 2 [3, 5] 4 \r\n",
      "The new list of elements after deep copying \n",
      "1 2 [7, 5] 4 \r\n",
      "The original elements after deep copying\n",
      "1 2 [3, 5] 4 "
     ]
    }
   ],
   "source": [
    "import copy \n",
    "  \n",
    "# initializing list 1 \n",
    "li1 = [1, 2, [3,5], 4] \n",
    "  \n",
    "# using deepcopy to deep copy  \n",
    "li2 = copy.deepcopy(li1) \n",
    "  \n",
    "# original elements of list \n",
    "print (\"The original elements before deep copying\") \n",
    "for i in range(0,len(li1)): \n",
    "    print (li1[i],end=\" \") \n",
    "  \n",
    "print(\"\\r\") \n",
    "  \n",
    "# adding and element to new list \n",
    "li2[2][0] = 7\n",
    "  \n",
    "# Change is reflected in l2  \n",
    "print (\"The new list of elements after deep copying \") \n",
    "for i in range(0,len( li1)): \n",
    "    print (li2[i],end=\" \") \n",
    "  \n",
    "print(\"\\r\") \n",
    "  \n",
    "# Change is NOT reflected in original list \n",
    "# as it is a deep copy \n",
    "print (\"The original elements after deep copying\") \n",
    "for i in range(0,len( li1)): \n",
    "    print (li1[i],end=\" \") "
   ]
  },
  {
   "cell_type": "code",
   "execution_count": 38,
   "metadata": {},
   "outputs": [
    {
     "name": "stdout",
     "output_type": "stream",
     "text": [
      "The original elements before shallow copying\n",
      "[1, 2, [3, 5], 4]\n",
      "\r\n",
      "The original elements after shallow copying\n",
      "[1, 2, [7, 5], 4]\n",
      "abc\n"
     ]
    }
   ],
   "source": [
    "import copy \n",
    "  \n",
    "# initializing list 1 \n",
    "li1 = [1, 2, [3,5], 4] \n",
    "string1 = 'abc'\n",
    "# using copy to shallow copy  \n",
    "li2 = copy.copy(li1) \n",
    "string2 = copy.copy(string1)\n",
    "# original elements of list \n",
    "print (\"The original elements before shallow copying\") \n",
    "print(li1)\n",
    "  \n",
    "print(\"\\r\") \n",
    "  \n",
    "# adding and element to new list \n",
    "li2[2][0] = 7\n",
    "string2 += 'de'\n",
    "# checking if change is reflected \n",
    "print (\"The original elements after shallow copying\") \n",
    "print(li1)\n",
    "print(string1)"
   ]
  },
  {
   "cell_type": "code",
   "execution_count": 28,
   "metadata": {},
   "outputs": [
    {
     "name": "stdout",
     "output_type": "stream",
     "text": [
      ".\n",
      "\r\n",
      ".\n"
     ]
    }
   ],
   "source": [
    "print('.')\n",
    "print('\\r')\n",
    "print('.')"
   ]
  },
  {
   "cell_type": "markdown",
   "metadata": {},
   "source": [
    "# COPY ONLY WORKS ON CONTAINERS\n"
   ]
  },
  {
   "cell_type": "code",
   "execution_count": 41,
   "metadata": {},
   "outputs": [
    {
     "name": "stdout",
     "output_type": "stream",
     "text": [
      "Source list of candies\n"
     ]
    },
    {
     "data": {
      "text/plain": [
       "[{'name': 'Lolly Pop', 'price': 0.4, 'weight': 133},\n",
       " {'name': 'Licorice', 'price': 0.1, 'weight': 251},\n",
       " {'name': 'Chocolate', 'price': 0.8, 'weight': 601},\n",
       " {'name': 'Sours', 'price': 0.008, 'weight': 513},\n",
       " {'name': 'Hard candies', 'price': 0.24, 'weight': 433}]"
      ]
     },
     "execution_count": 41,
     "metadata": {},
     "output_type": "execute_result"
    }
   ],
   "source": [
    "warehouse = list()\n",
    "warehouse.append({'name': 'Lolly Pop', 'price': 0.4, 'weight': 133})\n",
    "warehouse.append({'name': 'Licorice', 'price': 0.1, 'weight': 251})\n",
    "warehouse.append({'name': 'Chocolate', 'price': 1, 'weight': 601})\n",
    "warehouse.append({'name': 'Sours', 'price': 0.01, 'weight': 513})\n",
    "warehouse.append({'name': 'Hard candies', 'price': 0.3, 'weight': 433})\n",
    "\n",
    "print('Source list of candies')\n",
    "warehouse2 = list()\n",
    "for item in warehouse:\n",
    "    warehouse2.append(copy.deepcopy(item))\n",
    "for item in warehouse2:\n",
    "    if item['weight'] > 300:\n",
    "        item['price'] *= .8\n",
    "warehouse2"
   ]
  },
  {
   "cell_type": "code",
   "execution_count": 44,
   "metadata": {},
   "outputs": [],
   "source": [
    "import pickle\n",
    "\n",
    "a_dict = dict()\n",
    "a_dict['EUR'] = {'code':'Euro', 'symbol': '€'}\n",
    "a_dict['GBP'] = {'code':'Pounds sterling', 'symbol': '£'}\n",
    "a_dict['USD'] = {'code':'US dollar', 'symbol': '$'}\n",
    "a_dict['JPY'] = {'code':'Japanese yen', 'symbol': '¥'}\n",
    "\n",
    "a_list = ['a', 123, [10, 100, 1000]]\n",
    "\n",
    "with open('multidata.pckl', 'wb') as file_out:\n",
    "    pickle.dump(a_dict, file_out)\n",
    "    pickle.dump(a_list, file_out)\n"
   ]
  },
  {
   "cell_type": "code",
   "execution_count": 46,
   "metadata": {},
   "outputs": [
    {
     "name": "stdout",
     "output_type": "stream",
     "text": [
      "<class 'dict'>\n",
      "{'EUR': {'code': 'Euro', 'symbol': '€'}, 'GBP': {'code': 'Pounds sterling', 'symbol': '£'}, 'USD': {'code': 'US dollar', 'symbol': '$'}, 'JPY': {'code': 'Japanese yen', 'symbol': '¥'}}\n",
      "<class 'list'>\n",
      "['a', 123, [10, 100, 1000]]\n"
     ]
    }
   ],
   "source": [
    "with open('multidata.pckl','rb') as file_in:\n",
    "    data1 = pickle.load(file_in)\n",
    "    data2 = pickle.load(file_in)\n",
    "print(type(data1))\n",
    "print(data1)\n",
    "print(type(data2))\n",
    "print(data2)\n",
    "# pickles -> bytes = serilization \n",
    "# dict of pickled stuff = shelves"
   ]
  },
  {
   "cell_type": "code",
   "execution_count": 51,
   "metadata": {},
   "outputs": [
    {
     "name": "stdout",
     "output_type": "stream",
     "text": [
      "<class 'type'>\n",
      "<class 'type'>\n",
      "<class 'type'>\n"
     ]
    }
   ],
   "source": [
    "for t in (type,list,str):\n",
    "    print(type(t))"
   ]
  },
  {
   "cell_type": "code",
   "execution_count": 52,
   "metadata": {},
   "outputs": [
    {
     "data": {
      "text/plain": [
       "type"
      ]
     },
     "execution_count": 52,
     "metadata": {},
     "output_type": "execute_result"
    }
   ],
   "source": [
    "type.__class__"
   ]
  },
  {
   "cell_type": "code",
   "execution_count": 56,
   "metadata": {},
   "outputs": [
    {
     "data": {
      "text/plain": [
       "['__abstractmethods__',\n",
       " '__base__',\n",
       " '__bases__',\n",
       " '__basicsize__',\n",
       " '__call__',\n",
       " '__class__',\n",
       " '__delattr__',\n",
       " '__dict__',\n",
       " '__dictoffset__',\n",
       " '__dir__',\n",
       " '__doc__',\n",
       " '__eq__',\n",
       " '__flags__',\n",
       " '__format__',\n",
       " '__ge__',\n",
       " '__getattribute__',\n",
       " '__gt__',\n",
       " '__hash__',\n",
       " '__init__',\n",
       " '__init_subclass__',\n",
       " '__instancecheck__',\n",
       " '__itemsize__',\n",
       " '__le__',\n",
       " '__lt__',\n",
       " '__module__',\n",
       " '__mro__',\n",
       " '__name__',\n",
       " '__ne__',\n",
       " '__new__',\n",
       " '__prepare__',\n",
       " '__qualname__',\n",
       " '__reduce__',\n",
       " '__reduce_ex__',\n",
       " '__repr__',\n",
       " '__setattr__',\n",
       " '__sizeof__',\n",
       " '__str__',\n",
       " '__subclasscheck__',\n",
       " '__subclasses__',\n",
       " '__subclasshook__',\n",
       " '__text_signature__',\n",
       " '__weakrefoffset__',\n",
       " 'mro']"
      ]
     },
     "execution_count": 56,
     "metadata": {},
     "output_type": "execute_result"
    }
   ],
   "source": [
    "dir(type)"
   ]
  },
  {
   "cell_type": "code",
   "execution_count": 62,
   "metadata": {},
   "outputs": [
    {
     "data": {
      "text/plain": [
       "[abc.ABCMeta,\n",
       " enum.EnumMeta,\n",
       " string._TemplateMetaclass,\n",
       " traitlets.traitlets.MetaHasDescriptors,\n",
       " _ctypes.PyCStructType,\n",
       " _ctypes.UnionType,\n",
       " _ctypes.PyCPointerType,\n",
       " _ctypes.PyCArrayType,\n",
       " _ctypes.PyCSimpleType,\n",
       " _ctypes.PyCFuncPtrType,\n",
       " typing._ProtocolMeta,\n",
       " typing.NamedTupleMeta,\n",
       " pygments.lexer.LexerMeta,\n",
       " pygments.style.StyleMeta,\n",
       " parso.normalizer._NormalizerMeta,\n",
       " jedi.evaluate.cache.CachedMetaClass,\n",
       " jedi.evaluate.filters._OverwriteMeta,\n",
       " dateutil.tz._factories._TzSingleton,\n",
       " dateutil.tz._factories._TzFactory]"
      ]
     },
     "execution_count": 62,
     "metadata": {},
     "output_type": "execute_result"
    }
   ],
   "source": [
    "type.__subclasses__(type)"
   ]
  },
  {
   "cell_type": "code",
   "execution_count": 64,
   "metadata": {},
   "outputs": [
    {
     "data": {
      "text/plain": [
       "type"
      ]
     },
     "execution_count": 64,
     "metadata": {},
     "output_type": "execute_result"
    }
   ],
   "source": [
    "class Class():\n",
    "    pass\n",
    "Class.__class__"
   ]
  },
  {
   "cell_type": "code",
   "execution_count": 65,
   "metadata": {},
   "outputs": [
    {
     "data": {
      "text/plain": [
       "(object,)"
      ]
     },
     "execution_count": 65,
     "metadata": {},
     "output_type": "execute_result"
    }
   ],
   "source": [
    "Class.__bases__"
   ]
  },
  {
   "cell_type": "code",
   "execution_count": 66,
   "metadata": {},
   "outputs": [
    {
     "data": {
      "text/plain": [
       "mappingproxy({'__module__': '__main__',\n",
       "              '__dict__': <attribute '__dict__' of 'Class' objects>,\n",
       "              '__weakref__': <attribute '__weakref__' of 'Class' objects>,\n",
       "              '__doc__': None})"
      ]
     },
     "execution_count": 66,
     "metadata": {},
     "output_type": "execute_result"
    }
   ],
   "source": [
    "Class.__dict__"
   ]
  },
  {
   "cell_type": "code",
   "execution_count": 67,
   "metadata": {},
   "outputs": [
    {
     "data": {
      "text/plain": [
       "'Class'"
      ]
     },
     "execution_count": 67,
     "metadata": {},
     "output_type": "execute_result"
    }
   ],
   "source": [
    "Class.__name__"
   ]
  },
  {
   "cell_type": "code",
   "execution_count": 78,
   "metadata": {},
   "outputs": [
    {
     "data": {
      "text/plain": [
       "type"
      ]
     },
     "execution_count": 78,
     "metadata": {},
     "output_type": "execute_result"
    }
   ],
   "source": [
    "bool.__class__"
   ]
  },
  {
   "cell_type": "code",
   "execution_count": 76,
   "metadata": {},
   "outputs": [
    {
     "data": {
      "text/plain": [
       "type"
      ]
     },
     "execution_count": 76,
     "metadata": {},
     "output_type": "execute_result"
    }
   ],
   "source": [
    "object.__class__"
   ]
  },
  {
   "cell_type": "code",
   "execution_count": 77,
   "metadata": {},
   "outputs": [
    {
     "data": {
      "text/plain": [
       "type"
      ]
     },
     "execution_count": 77,
     "metadata": {},
     "output_type": "execute_result"
    }
   ],
   "source": [
    "type.__class__"
   ]
  },
  {
   "cell_type": "code",
   "execution_count": 85,
   "metadata": {},
   "outputs": [
    {
     "data": {
      "text/plain": [
       "'do'"
      ]
     },
     "execution_count": 85,
     "metadata": {},
     "output_type": "execute_result"
    }
   ],
   "source": [
    "class Dog():\n",
    "    pass\n",
    "dog = Dog()\n",
    "Dog.__name__ = 'do'\n",
    "Dog.__name__"
   ]
  },
  {
   "cell_type": "code",
   "execution_count": 86,
   "metadata": {},
   "outputs": [
    {
     "data": {
      "text/plain": [
       "'do'"
      ]
     },
     "execution_count": 86,
     "metadata": {},
     "output_type": "execute_result"
    }
   ],
   "source": [
    "Dog.__name__"
   ]
  },
  {
   "cell_type": "code",
   "execution_count": 87,
   "metadata": {},
   "outputs": [
    {
     "ename": "NameError",
     "evalue": "name 'do' is not defined",
     "output_type": "error",
     "traceback": [
      "\u001b[1;31m---------------------------------------------------------------------------\u001b[0m",
      "\u001b[1;31mNameError\u001b[0m                                 Traceback (most recent call last)",
      "\u001b[1;32m<ipython-input-87-92335651cc3e>\u001b[0m in \u001b[0;36m<module>\u001b[1;34m\u001b[0m\n\u001b[1;32m----> 1\u001b[1;33m \u001b[0mdo\u001b[0m\u001b[1;33m\u001b[0m\u001b[1;33m\u001b[0m\u001b[0m\n\u001b[0m",
      "\u001b[1;31mNameError\u001b[0m: name 'do' is not defined"
     ]
    }
   ],
   "source": [
    "do"
   ]
  },
  {
   "cell_type": "code",
   "execution_count": 20,
   "metadata": {},
   "outputs": [],
   "source": [
    "Dog = type('Dog',(),{'age':2})"
   ]
  },
  {
   "cell_type": "code",
   "execution_count": 21,
   "metadata": {},
   "outputs": [
    {
     "data": {
      "text/plain": [
       "(object,)"
      ]
     },
     "execution_count": 21,
     "metadata": {},
     "output_type": "execute_result"
    }
   ],
   "source": [
    "Dog.__bases__"
   ]
  },
  {
   "cell_type": "code",
   "execution_count": 22,
   "metadata": {},
   "outputs": [
    {
     "data": {
      "text/plain": [
       "2"
      ]
     },
     "execution_count": 22,
     "metadata": {},
     "output_type": "execute_result"
    }
   ],
   "source": [
    "dog = Dog()\n",
    "dog.age"
   ]
  },
  {
   "cell_type": "code",
   "execution_count": 12,
   "metadata": {},
   "outputs": [],
   "source": [
    "def greeting(self):\n",
    "    return 'hello how are you?'\n",
    "class MetaClass(type):\n",
    "    def __new__(mcs,name,bases,dictionary):\n",
    "        if 'greeting' not in dictionary:\n",
    "            dictionary['greeting'] = greeting\n",
    "        obj = super().__new__(mcs,name,bases,dictionary)\n",
    "        return obj\n",
    "class MyClass(metaclass=MetaClass):\n",
    "    pass\n",
    "class OtherClass(metaclass=MetaClass):\n",
    "    def greeting(self):\n",
    "        return 'new thing'"
   ]
  },
  {
   "cell_type": "code",
   "execution_count": 13,
   "metadata": {},
   "outputs": [
    {
     "data": {
      "text/plain": [
       "'hello how are you?'"
      ]
     },
     "execution_count": 13,
     "metadata": {},
     "output_type": "execute_result"
    }
   ],
   "source": [
    "thing = MyClass()\n",
    "thing.greeting()"
   ]
  },
  {
   "cell_type": "code",
   "execution_count": 14,
   "metadata": {},
   "outputs": [
    {
     "data": {
      "text/plain": [
       "'new thing'"
      ]
     },
     "execution_count": 14,
     "metadata": {},
     "output_type": "execute_result"
    }
   ],
   "source": [
    "otherthing = OtherClass()\n",
    "otherthing.greeting()"
   ]
  },
  {
   "cell_type": "code",
   "execution_count": 45,
   "metadata": {},
   "outputs": [],
   "source": [
    "from datetime import datetime\n",
    "def get_time():\n",
    "    return datetime.now()\n",
    "def get_instantiation(self):\n",
    "    return self.instantiation_time\n",
    "class Metaclass(type):\n",
    "    def __new__(mcs,name,bases,dictionary):\n",
    "        dictionary['instantiation_time'] = get_time()\n",
    "        dictionary['get_instantiation_time'] = get_instantiation  \n",
    "        obj = super().__new__(mcs,name,bases,dictionary)\n",
    "        return obj"
   ]
  },
  {
   "cell_type": "code",
   "execution_count": 46,
   "metadata": {},
   "outputs": [],
   "source": [
    "class myClass(metaclass=Metaclass):\n",
    "    pass"
   ]
  },
  {
   "cell_type": "code",
   "execution_count": 47,
   "metadata": {},
   "outputs": [],
   "source": [
    "myobject = myClass()"
   ]
  },
  {
   "cell_type": "code",
   "execution_count": 48,
   "metadata": {},
   "outputs": [
    {
     "data": {
      "text/plain": [
       "datetime.datetime(2020, 9, 14, 16, 59, 54, 798877)"
      ]
     },
     "execution_count": 48,
     "metadata": {},
     "output_type": "execute_result"
    }
   ],
   "source": [
    "myobject.get_instantiation_time()"
   ]
  },
  {
   "cell_type": "code",
   "execution_count": 53,
   "metadata": {},
   "outputs": [
    {
     "ename": "AttributeError",
     "evalue": "type object 'myClass' has no attribute '__help__'",
     "output_type": "error",
     "traceback": [
      "\u001b[1;31m---------------------------------------------------------------------------\u001b[0m",
      "\u001b[1;31mAttributeError\u001b[0m                            Traceback (most recent call last)",
      "\u001b[1;32m<ipython-input-53-75787e051a51>\u001b[0m in \u001b[0;36m<module>\u001b[1;34m\u001b[0m\n\u001b[1;32m----> 1\u001b[1;33m \u001b[0mmyClass\u001b[0m\u001b[1;33m.\u001b[0m\u001b[0m__help__\u001b[0m\u001b[1;33m(\u001b[0m\u001b[1;33m)\u001b[0m\u001b[1;33m\u001b[0m\u001b[1;33m\u001b[0m\u001b[0m\n\u001b[0m",
      "\u001b[1;31mAttributeError\u001b[0m: type object 'myClass' has no attribute '__help__'"
     ]
    }
   ],
   "source": [
    "myClass.__help__()"
   ]
  },
  {
   "cell_type": "code",
   "execution_count": 58,
   "metadata": {},
   "outputs": [
    {
     "ename": "AttributeError",
     "evalue": "'myClass' object has no attribute 'help'",
     "output_type": "error",
     "traceback": [
      "\u001b[1;31m---------------------------------------------------------------------------\u001b[0m",
      "\u001b[1;31mAttributeError\u001b[0m                            Traceback (most recent call last)",
      "\u001b[1;32m<ipython-input-58-a94d924e4750>\u001b[0m in \u001b[0;36m<module>\u001b[1;34m\u001b[0m\n\u001b[1;32m----> 1\u001b[1;33m \u001b[0mmyobject\u001b[0m\u001b[1;33m.\u001b[0m\u001b[0mhelp\u001b[0m\u001b[1;33m(\u001b[0m\u001b[1;33m)\u001b[0m\u001b[1;33m\u001b[0m\u001b[1;33m\u001b[0m\u001b[0m\n\u001b[0m",
      "\u001b[1;31mAttributeError\u001b[0m: 'myClass' object has no attribute 'help'"
     ]
    }
   ],
   "source": [
    "myobject.help()"
   ]
  },
  {
   "cell_type": "code",
   "execution_count": 14,
   "metadata": {},
   "outputs": [],
   "source": [
    "class Thing():\n",
    "    Thing.y = 'z'\n",
    "    def __init__(self):\n",
    "        self.x = 'y'\n",
    "thing = Thing()"
   ]
  },
  {
   "cell_type": "code",
   "execution_count": 15,
   "metadata": {},
   "outputs": [
    {
     "ename": "AttributeError",
     "evalue": "type object 'Thing' has no attribute 'y'",
     "output_type": "error",
     "traceback": [
      "\u001b[1;31m---------------------------------------------------------------------------\u001b[0m",
      "\u001b[1;31mAttributeError\u001b[0m                            Traceback (most recent call last)",
      "\u001b[1;32m<ipython-input-15-132812bc43c6>\u001b[0m in \u001b[0;36m<module>\u001b[1;34m\u001b[0m\n\u001b[1;32m----> 1\u001b[1;33m \u001b[0mgetattr\u001b[0m\u001b[1;33m(\u001b[0m\u001b[0mThing\u001b[0m\u001b[1;33m,\u001b[0m\u001b[1;34m'y'\u001b[0m\u001b[1;33m)\u001b[0m\u001b[1;33m\u001b[0m\u001b[1;33m\u001b[0m\u001b[0m\n\u001b[0m",
      "\u001b[1;31mAttributeError\u001b[0m: type object 'Thing' has no attribute 'y'"
     ]
    }
   ],
   "source": [
    "getattr(Thing,'y')"
   ]
  },
  {
   "cell_type": "code",
   "execution_count": 19,
   "metadata": {},
   "outputs": [],
   "source": [
    "setattr(thing,'123',123)"
   ]
  },
  {
   "cell_type": "code",
   "execution_count": 18,
   "metadata": {},
   "outputs": [
    {
     "data": {
      "text/plain": [
       "False"
      ]
     },
     "execution_count": 18,
     "metadata": {},
     "output_type": "execute_result"
    }
   ],
   "source": [
    "hasattr(Thing,'y')"
   ]
  },
  {
   "cell_type": "code",
   "execution_count": 22,
   "metadata": {},
   "outputs": [
    {
     "data": {
      "text/plain": [
       "mappingproxy({'__module__': '__main__',\n",
       "              '__init__': <function __main__.Thing.__init__(self)>,\n",
       "              '__dict__': <attribute '__dict__' of 'Thing' objects>,\n",
       "              '__weakref__': <attribute '__weakref__' of 'Thing' objects>,\n",
       "              '__doc__': None})"
      ]
     },
     "execution_count": 22,
     "metadata": {},
     "output_type": "execute_result"
    }
   ],
   "source": [
    "Thing.__dict__"
   ]
  },
  {
   "cell_type": "code",
   "execution_count": 26,
   "metadata": {},
   "outputs": [
    {
     "data": {
      "text/plain": [
       "True"
      ]
     },
     "execution_count": 26,
     "metadata": {},
     "output_type": "execute_result"
    }
   ],
   "source": [
    "isinstance(thing,Thing)"
   ]
  },
  {
   "cell_type": "code",
   "execution_count": 41,
   "metadata": {},
   "outputs": [],
   "source": [
    "class MyMeta(type):\n",
    "    def __new__(mcs,name,bases,dictionary):\n",
    "        obj = super().__new__(mcs,name,bases,dictionary)\n",
    "        return obj\n",
    "class Mything(metaclass=MyMeta):\n",
    "    def __init__(self):\n",
    "        pass\n",
    "class Mynewthing(Mything):\n",
    "    def __init__(self):\n",
    "        super().__init__()"
   ]
  },
  {
   "cell_type": "code",
   "execution_count": 42,
   "metadata": {},
   "outputs": [],
   "source": [
    "mything = Mything()"
   ]
  },
  {
   "cell_type": "code",
   "execution_count": 45,
   "metadata": {},
   "outputs": [
    {
     "data": {
      "text/plain": [
       "True"
      ]
     },
     "execution_count": 45,
     "metadata": {},
     "output_type": "execute_result"
    }
   ],
   "source": [
    "issubclass(Mynewthing,Mything)"
   ]
  },
  {
   "cell_type": "code",
   "execution_count": 53,
   "metadata": {},
   "outputs": [
    {
     "data": {
      "text/plain": [
       "mappingproxy({'__repr__': <slot wrapper '__repr__' of 'int' objects>,\n",
       "              '__hash__': <slot wrapper '__hash__' of 'int' objects>,\n",
       "              '__str__': <slot wrapper '__str__' of 'int' objects>,\n",
       "              '__getattribute__': <slot wrapper '__getattribute__' of 'int' objects>,\n",
       "              '__lt__': <slot wrapper '__lt__' of 'int' objects>,\n",
       "              '__le__': <slot wrapper '__le__' of 'int' objects>,\n",
       "              '__eq__': <slot wrapper '__eq__' of 'int' objects>,\n",
       "              '__ne__': <slot wrapper '__ne__' of 'int' objects>,\n",
       "              '__gt__': <slot wrapper '__gt__' of 'int' objects>,\n",
       "              '__ge__': <slot wrapper '__ge__' of 'int' objects>,\n",
       "              '__add__': <slot wrapper '__add__' of 'int' objects>,\n",
       "              '__radd__': <slot wrapper '__radd__' of 'int' objects>,\n",
       "              '__sub__': <slot wrapper '__sub__' of 'int' objects>,\n",
       "              '__rsub__': <slot wrapper '__rsub__' of 'int' objects>,\n",
       "              '__mul__': <slot wrapper '__mul__' of 'int' objects>,\n",
       "              '__rmul__': <slot wrapper '__rmul__' of 'int' objects>,\n",
       "              '__mod__': <slot wrapper '__mod__' of 'int' objects>,\n",
       "              '__rmod__': <slot wrapper '__rmod__' of 'int' objects>,\n",
       "              '__divmod__': <slot wrapper '__divmod__' of 'int' objects>,\n",
       "              '__rdivmod__': <slot wrapper '__rdivmod__' of 'int' objects>,\n",
       "              '__pow__': <slot wrapper '__pow__' of 'int' objects>,\n",
       "              '__rpow__': <slot wrapper '__rpow__' of 'int' objects>,\n",
       "              '__neg__': <slot wrapper '__neg__' of 'int' objects>,\n",
       "              '__pos__': <slot wrapper '__pos__' of 'int' objects>,\n",
       "              '__abs__': <slot wrapper '__abs__' of 'int' objects>,\n",
       "              '__bool__': <slot wrapper '__bool__' of 'int' objects>,\n",
       "              '__invert__': <slot wrapper '__invert__' of 'int' objects>,\n",
       "              '__lshift__': <slot wrapper '__lshift__' of 'int' objects>,\n",
       "              '__rlshift__': <slot wrapper '__rlshift__' of 'int' objects>,\n",
       "              '__rshift__': <slot wrapper '__rshift__' of 'int' objects>,\n",
       "              '__rrshift__': <slot wrapper '__rrshift__' of 'int' objects>,\n",
       "              '__and__': <slot wrapper '__and__' of 'int' objects>,\n",
       "              '__rand__': <slot wrapper '__rand__' of 'int' objects>,\n",
       "              '__xor__': <slot wrapper '__xor__' of 'int' objects>,\n",
       "              '__rxor__': <slot wrapper '__rxor__' of 'int' objects>,\n",
       "              '__or__': <slot wrapper '__or__' of 'int' objects>,\n",
       "              '__ror__': <slot wrapper '__ror__' of 'int' objects>,\n",
       "              '__int__': <slot wrapper '__int__' of 'int' objects>,\n",
       "              '__float__': <slot wrapper '__float__' of 'int' objects>,\n",
       "              '__floordiv__': <slot wrapper '__floordiv__' of 'int' objects>,\n",
       "              '__rfloordiv__': <slot wrapper '__rfloordiv__' of 'int' objects>,\n",
       "              '__truediv__': <slot wrapper '__truediv__' of 'int' objects>,\n",
       "              '__rtruediv__': <slot wrapper '__rtruediv__' of 'int' objects>,\n",
       "              '__index__': <slot wrapper '__index__' of 'int' objects>,\n",
       "              '__new__': <function int.__new__(*args, **kwargs)>,\n",
       "              'conjugate': <method 'conjugate' of 'int' objects>,\n",
       "              'bit_length': <method 'bit_length' of 'int' objects>,\n",
       "              'to_bytes': <method 'to_bytes' of 'int' objects>,\n",
       "              'from_bytes': <method 'from_bytes' of 'int' objects>,\n",
       "              '__trunc__': <method '__trunc__' of 'int' objects>,\n",
       "              '__floor__': <method '__floor__' of 'int' objects>,\n",
       "              '__ceil__': <method '__ceil__' of 'int' objects>,\n",
       "              '__round__': <method '__round__' of 'int' objects>,\n",
       "              '__getnewargs__': <method '__getnewargs__' of 'int' objects>,\n",
       "              '__format__': <method '__format__' of 'int' objects>,\n",
       "              '__sizeof__': <method '__sizeof__' of 'int' objects>,\n",
       "              'real': <attribute 'real' of 'int' objects>,\n",
       "              'imag': <attribute 'imag' of 'int' objects>,\n",
       "              'numerator': <attribute 'numerator' of 'int' objects>,\n",
       "              'denominator': <attribute 'denominator' of 'int' objects>,\n",
       "              '__doc__': \"int([x]) -> integer\\nint(x, base=10) -> integer\\n\\nConvert a number or string to an integer, or return 0 if no arguments\\nare given.  If x is a number, return x.__int__().  For floating point\\nnumbers, this truncates towards zero.\\n\\nIf x is not a number or if base is given, then x must be a string,\\nbytes, or bytearray instance representing an integer literal in the\\ngiven base.  The literal can be preceded by '+' or '-' and be surrounded\\nby whitespace.  The base defaults to 10.  Valid bases are 0 and 2-36.\\nBase 0 means to interpret the base from the string as an integer literal.\\n>>> int('0b100', base=0)\\n4\"})"
      ]
     },
     "execution_count": 53,
     "metadata": {},
     "output_type": "execute_result"
    }
   ],
   "source": [
    "int.__dict__"
   ]
  },
  {
   "cell_type": "code",
   "execution_count": 57,
   "metadata": {},
   "outputs": [
    {
     "ename": "SyntaxError",
     "evalue": "invalid syntax (<ipython-input-57-2a55e393739a>, line 1)",
     "output_type": "error",
     "traceback": [
      "\u001b[1;36m  File \u001b[1;32m\"<ipython-input-57-2a55e393739a>\"\u001b[1;36m, line \u001b[1;32m1\u001b[0m\n\u001b[1;33m    3.sub()\u001b[0m\n\u001b[1;37m        ^\u001b[0m\n\u001b[1;31mSyntaxError\u001b[0m\u001b[1;31m:\u001b[0m invalid syntax\n"
     ]
    }
   ],
   "source": [
    "3.sub()"
   ]
  },
  {
   "cell_type": "code",
   "execution_count": 74,
   "metadata": {},
   "outputs": [],
   "source": [
    "class MyInt(int):\n",
    "    def __init__(self):\n",
    "        super().__init__()\n",
    "    def __eq__(self,num):\n",
    "        return not super().__eq__(num)"
   ]
  },
  {
   "cell_type": "code",
   "execution_count": 75,
   "metadata": {},
   "outputs": [],
   "source": [
    "x = MyInt()"
   ]
  },
  {
   "cell_type": "code",
   "execution_count": 76,
   "metadata": {},
   "outputs": [
    {
     "data": {
      "text/plain": [
       "False"
      ]
     },
     "execution_count": 76,
     "metadata": {},
     "output_type": "execute_result"
    }
   ],
   "source": [
    "x == x"
   ]
  },
  {
   "cell_type": "code",
   "execution_count": 77,
   "metadata": {},
   "outputs": [
    {
     "data": {
      "text/plain": [
       "['__abs__',\n",
       " '__add__',\n",
       " '__and__',\n",
       " '__bool__',\n",
       " '__ceil__',\n",
       " '__class__',\n",
       " '__delattr__',\n",
       " '__dir__',\n",
       " '__divmod__',\n",
       " '__doc__',\n",
       " '__eq__',\n",
       " '__float__',\n",
       " '__floor__',\n",
       " '__floordiv__',\n",
       " '__format__',\n",
       " '__ge__',\n",
       " '__getattribute__',\n",
       " '__getnewargs__',\n",
       " '__gt__',\n",
       " '__hash__',\n",
       " '__index__',\n",
       " '__init__',\n",
       " '__init_subclass__',\n",
       " '__int__',\n",
       " '__invert__',\n",
       " '__le__',\n",
       " '__lshift__',\n",
       " '__lt__',\n",
       " '__mod__',\n",
       " '__mul__',\n",
       " '__ne__',\n",
       " '__neg__',\n",
       " '__new__',\n",
       " '__or__',\n",
       " '__pos__',\n",
       " '__pow__',\n",
       " '__radd__',\n",
       " '__rand__',\n",
       " '__rdivmod__',\n",
       " '__reduce__',\n",
       " '__reduce_ex__',\n",
       " '__repr__',\n",
       " '__rfloordiv__',\n",
       " '__rlshift__',\n",
       " '__rmod__',\n",
       " '__rmul__',\n",
       " '__ror__',\n",
       " '__round__',\n",
       " '__rpow__',\n",
       " '__rrshift__',\n",
       " '__rshift__',\n",
       " '__rsub__',\n",
       " '__rtruediv__',\n",
       " '__rxor__',\n",
       " '__setattr__',\n",
       " '__sizeof__',\n",
       " '__str__',\n",
       " '__sub__',\n",
       " '__subclasshook__',\n",
       " '__truediv__',\n",
       " '__trunc__',\n",
       " '__xor__',\n",
       " 'bit_length',\n",
       " 'conjugate',\n",
       " 'denominator',\n",
       " 'from_bytes',\n",
       " 'imag',\n",
       " 'numerator',\n",
       " 'real',\n",
       " 'to_bytes']"
      ]
     },
     "execution_count": 77,
     "metadata": {},
     "output_type": "execute_result"
    }
   ],
   "source": [
    "dir(10)"
   ]
  },
  {
   "cell_type": "code",
   "execution_count": 78,
   "metadata": {},
   "outputs": [
    {
     "data": {
      "text/plain": [
       "mappingproxy({'__repr__': <slot wrapper '__repr__' of 'int' objects>,\n",
       "              '__hash__': <slot wrapper '__hash__' of 'int' objects>,\n",
       "              '__str__': <slot wrapper '__str__' of 'int' objects>,\n",
       "              '__getattribute__': <slot wrapper '__getattribute__' of 'int' objects>,\n",
       "              '__lt__': <slot wrapper '__lt__' of 'int' objects>,\n",
       "              '__le__': <slot wrapper '__le__' of 'int' objects>,\n",
       "              '__eq__': <slot wrapper '__eq__' of 'int' objects>,\n",
       "              '__ne__': <slot wrapper '__ne__' of 'int' objects>,\n",
       "              '__gt__': <slot wrapper '__gt__' of 'int' objects>,\n",
       "              '__ge__': <slot wrapper '__ge__' of 'int' objects>,\n",
       "              '__add__': <slot wrapper '__add__' of 'int' objects>,\n",
       "              '__radd__': <slot wrapper '__radd__' of 'int' objects>,\n",
       "              '__sub__': <slot wrapper '__sub__' of 'int' objects>,\n",
       "              '__rsub__': <slot wrapper '__rsub__' of 'int' objects>,\n",
       "              '__mul__': <slot wrapper '__mul__' of 'int' objects>,\n",
       "              '__rmul__': <slot wrapper '__rmul__' of 'int' objects>,\n",
       "              '__mod__': <slot wrapper '__mod__' of 'int' objects>,\n",
       "              '__rmod__': <slot wrapper '__rmod__' of 'int' objects>,\n",
       "              '__divmod__': <slot wrapper '__divmod__' of 'int' objects>,\n",
       "              '__rdivmod__': <slot wrapper '__rdivmod__' of 'int' objects>,\n",
       "              '__pow__': <slot wrapper '__pow__' of 'int' objects>,\n",
       "              '__rpow__': <slot wrapper '__rpow__' of 'int' objects>,\n",
       "              '__neg__': <slot wrapper '__neg__' of 'int' objects>,\n",
       "              '__pos__': <slot wrapper '__pos__' of 'int' objects>,\n",
       "              '__abs__': <slot wrapper '__abs__' of 'int' objects>,\n",
       "              '__bool__': <slot wrapper '__bool__' of 'int' objects>,\n",
       "              '__invert__': <slot wrapper '__invert__' of 'int' objects>,\n",
       "              '__lshift__': <slot wrapper '__lshift__' of 'int' objects>,\n",
       "              '__rlshift__': <slot wrapper '__rlshift__' of 'int' objects>,\n",
       "              '__rshift__': <slot wrapper '__rshift__' of 'int' objects>,\n",
       "              '__rrshift__': <slot wrapper '__rrshift__' of 'int' objects>,\n",
       "              '__and__': <slot wrapper '__and__' of 'int' objects>,\n",
       "              '__rand__': <slot wrapper '__rand__' of 'int' objects>,\n",
       "              '__xor__': <slot wrapper '__xor__' of 'int' objects>,\n",
       "              '__rxor__': <slot wrapper '__rxor__' of 'int' objects>,\n",
       "              '__or__': <slot wrapper '__or__' of 'int' objects>,\n",
       "              '__ror__': <slot wrapper '__ror__' of 'int' objects>,\n",
       "              '__int__': <slot wrapper '__int__' of 'int' objects>,\n",
       "              '__float__': <slot wrapper '__float__' of 'int' objects>,\n",
       "              '__floordiv__': <slot wrapper '__floordiv__' of 'int' objects>,\n",
       "              '__rfloordiv__': <slot wrapper '__rfloordiv__' of 'int' objects>,\n",
       "              '__truediv__': <slot wrapper '__truediv__' of 'int' objects>,\n",
       "              '__rtruediv__': <slot wrapper '__rtruediv__' of 'int' objects>,\n",
       "              '__index__': <slot wrapper '__index__' of 'int' objects>,\n",
       "              '__new__': <function int.__new__(*args, **kwargs)>,\n",
       "              'conjugate': <method 'conjugate' of 'int' objects>,\n",
       "              'bit_length': <method 'bit_length' of 'int' objects>,\n",
       "              'to_bytes': <method 'to_bytes' of 'int' objects>,\n",
       "              'from_bytes': <method 'from_bytes' of 'int' objects>,\n",
       "              '__trunc__': <method '__trunc__' of 'int' objects>,\n",
       "              '__floor__': <method '__floor__' of 'int' objects>,\n",
       "              '__ceil__': <method '__ceil__' of 'int' objects>,\n",
       "              '__round__': <method '__round__' of 'int' objects>,\n",
       "              '__getnewargs__': <method '__getnewargs__' of 'int' objects>,\n",
       "              '__format__': <method '__format__' of 'int' objects>,\n",
       "              '__sizeof__': <method '__sizeof__' of 'int' objects>,\n",
       "              'real': <attribute 'real' of 'int' objects>,\n",
       "              'imag': <attribute 'imag' of 'int' objects>,\n",
       "              'numerator': <attribute 'numerator' of 'int' objects>,\n",
       "              'denominator': <attribute 'denominator' of 'int' objects>,\n",
       "              '__doc__': \"int([x]) -> integer\\nint(x, base=10) -> integer\\n\\nConvert a number or string to an integer, or return 0 if no arguments\\nare given.  If x is a number, return x.__int__().  For floating point\\nnumbers, this truncates towards zero.\\n\\nIf x is not a number or if base is given, then x must be a string,\\nbytes, or bytearray instance representing an integer literal in the\\ngiven base.  The literal can be preceded by '+' or '-' and be surrounded\\nby whitespace.  The base defaults to 10.  Valid bases are 0 and 2-36.\\nBase 0 means to interpret the base from the string as an integer literal.\\n>>> int('0b100', base=0)\\n4\"})"
      ]
     },
     "execution_count": 78,
     "metadata": {},
     "output_type": "execute_result"
    }
   ],
   "source": [
    "int.__dict__"
   ]
  },
  {
   "cell_type": "code",
   "execution_count": 25,
   "metadata": {},
   "outputs": [
    {
     "data": {
      "text/plain": [
       "3809"
      ]
     },
     "execution_count": 25,
     "metadata": {},
     "output_type": "execute_result"
    }
   ],
   "source": [
    "y = 0xee1\n",
    "int(y)"
   ]
  },
  {
   "cell_type": "code",
   "execution_count": 8,
   "metadata": {},
   "outputs": [
    {
     "data": {
      "text/plain": [
       "'0o14'"
      ]
     },
     "execution_count": 8,
     "metadata": {},
     "output_type": "execute_result"
    }
   ],
   "source": [
    "oct(12)"
   ]
  },
  {
   "cell_type": "code",
   "execution_count": 26,
   "metadata": {},
   "outputs": [
    {
     "name": "stdout",
     "output_type": "stream",
     "text": [
      "0x2ae25800\n"
     ]
    },
    {
     "ename": "ValueError",
     "evalue": "invalid literal for int() with base 10: '2ae25800'",
     "output_type": "error",
     "traceback": [
      "\u001b[1;31m---------------------------------------------------------------------------\u001b[0m",
      "\u001b[1;31mValueError\u001b[0m                                Traceback (most recent call last)",
      "\u001b[1;32m<ipython-input-26-9ed00f692af4>\u001b[0m in \u001b[0;36m<module>\u001b[1;34m\u001b[0m\n\u001b[0;32m      1\u001b[0m \u001b[0my\u001b[0m \u001b[1;33m=\u001b[0m \u001b[1;36m0x1000000000\u001b[0m\u001b[1;33m\u001b[0m\u001b[1;33m\u001b[0m\u001b[0m\n\u001b[0;32m      2\u001b[0m \u001b[1;32mfor\u001b[0m \u001b[0mx\u001b[0m \u001b[1;32min\u001b[0m \u001b[0mrange\u001b[0m\u001b[1;33m(\u001b[0m\u001b[1;36m10\u001b[0m\u001b[1;33m)\u001b[0m\u001b[1;33m:\u001b[0m\u001b[1;33m\u001b[0m\u001b[1;33m\u001b[0m\u001b[0m\n\u001b[1;32m----> 3\u001b[1;33m     \u001b[0my\u001b[0m \u001b[1;33m=\u001b[0m \u001b[0mint\u001b[0m\u001b[1;33m(\u001b[0m\u001b[0mstr\u001b[0m\u001b[1;33m(\u001b[0m\u001b[0my\u001b[0m\u001b[1;33m)\u001b[0m\u001b[1;33m[\u001b[0m\u001b[1;36m2\u001b[0m\u001b[1;33m:\u001b[0m\u001b[1;33m]\u001b[0m\u001b[1;33m)\u001b[0m\u001b[1;33m\u001b[0m\u001b[1;33m\u001b[0m\u001b[0m\n\u001b[0m\u001b[0;32m      4\u001b[0m     \u001b[0my\u001b[0m \u001b[1;33m=\u001b[0m \u001b[0mhex\u001b[0m\u001b[1;33m(\u001b[0m\u001b[0my\u001b[0m\u001b[1;33m)\u001b[0m\u001b[1;33m\u001b[0m\u001b[1;33m\u001b[0m\u001b[0m\n\u001b[0;32m      5\u001b[0m     \u001b[0mprint\u001b[0m\u001b[1;33m(\u001b[0m\u001b[0my\u001b[0m\u001b[1;33m)\u001b[0m\u001b[1;33m\u001b[0m\u001b[1;33m\u001b[0m\u001b[0m\n",
      "\u001b[1;31mValueError\u001b[0m: invalid literal for int() with base 10: '2ae25800'"
     ]
    }
   ],
   "source": [
    "y = 0x1000000000\n",
    "for x in range(10):\n",
    "    y = int(str(y)[2:])\n",
    "    y = hex(y)\n",
    "    print(y)"
   ]
  },
  {
   "cell_type": "code",
   "execution_count": 29,
   "metadata": {},
   "outputs": [],
   "source": [
    "class MyInt(int):\n",
    "    def __init__(self):\n",
    "        super().__init__()\n",
    "    def __add__(self,num):\n",
    "        return super().__add__(num) + 348917256034\n",
    "    "
   ]
  },
  {
   "cell_type": "code",
   "execution_count": 30,
   "metadata": {},
   "outputs": [
    {
     "data": {
      "text/plain": [
       "348917256044"
      ]
     },
     "execution_count": 30,
     "metadata": {},
     "output_type": "execute_result"
    }
   ],
   "source": [
    "x = MyInt()\n",
    "x + 10"
   ]
  },
  {
   "cell_type": "code",
   "execution_count": 42,
   "metadata": {},
   "outputs": [],
   "source": [
    "x = x + 100123123"
   ]
  },
  {
   "cell_type": "code",
   "execution_count": 43,
   "metadata": {},
   "outputs": [
    {
     "data": {
      "text/plain": [
       "349417871649"
      ]
     },
     "execution_count": 43,
     "metadata": {},
     "output_type": "execute_result"
    }
   ],
   "source": [
    "x"
   ]
  },
  {
   "cell_type": "code",
   "execution_count": 44,
   "metadata": {},
   "outputs": [
    {
     "data": {
      "text/plain": [
       "349417871650"
      ]
     },
     "execution_count": 44,
     "metadata": {},
     "output_type": "execute_result"
    }
   ],
   "source": [
    "x + 1"
   ]
  },
  {
   "cell_type": "code",
   "execution_count": 45,
   "metadata": {},
   "outputs": [],
   "source": [
    "a = 1"
   ]
  },
  {
   "cell_type": "code",
   "execution_count": 47,
   "metadata": {},
   "outputs": [
    {
     "ename": "AttributeError",
     "evalue": "'int' object has no attribute '__iadd__'",
     "output_type": "error",
     "traceback": [
      "\u001b[1;31m---------------------------------------------------------------------------\u001b[0m",
      "\u001b[1;31mAttributeError\u001b[0m                            Traceback (most recent call last)",
      "\u001b[1;32m<ipython-input-47-13582a755600>\u001b[0m in \u001b[0;36m<module>\u001b[1;34m\u001b[0m\n\u001b[1;32m----> 1\u001b[1;33m \u001b[0ma\u001b[0m\u001b[1;33m.\u001b[0m\u001b[0m__iadd__\u001b[0m\u001b[1;33m(\u001b[0m\u001b[1;36m123\u001b[0m\u001b[1;33m)\u001b[0m\u001b[1;33m\u001b[0m\u001b[1;33m\u001b[0m\u001b[0m\n\u001b[0m",
      "\u001b[1;31mAttributeError\u001b[0m: 'int' object has no attribute '__iadd__'"
     ]
    }
   ],
   "source": [
    "a.__add__(123)"
   ]
  },
  {
   "cell_type": "code",
   "execution_count": 52,
   "metadata": {},
   "outputs": [],
   "source": [
    "import shelve\n",
    "with shelve.open('spam') as db:\n",
    "    db['eggs'] = 'eggs'"
   ]
  },
  {
   "cell_type": "code",
   "execution_count": 59,
   "metadata": {},
   "outputs": [
    {
     "name": "stdout",
     "output_type": "stream",
     "text": [
      "[4]\n"
     ]
    }
   ],
   "source": [
    "l = [0,1,2,3,4,5]\n",
    "print(l[-2:-1])"
   ]
  },
  {
   "cell_type": "code",
   "execution_count": 60,
   "metadata": {},
   "outputs": [
    {
     "data": {
      "text/plain": [
       "1"
      ]
     },
     "execution_count": 60,
     "metadata": {},
     "output_type": "execute_result"
    }
   ],
   "source": [
    "1%2"
   ]
  },
  {
   "cell_type": "code",
   "execution_count": 61,
   "metadata": {},
   "outputs": [
    {
     "ename": "TypeError",
     "evalue": "unsupported operand type(s) for +: 'NoneType' and 'NoneType'",
     "output_type": "error",
     "traceback": [
      "\u001b[1;31m---------------------------------------------------------------------------\u001b[0m",
      "\u001b[1;31mTypeError\u001b[0m                                 Traceback (most recent call last)",
      "\u001b[1;32m<ipython-input-61-87684764322b>\u001b[0m in \u001b[0;36m<module>\u001b[1;34m\u001b[0m\n\u001b[1;32m----> 1\u001b[1;33m \u001b[1;32mNone\u001b[0m \u001b[1;33m+\u001b[0m \u001b[1;32mNone\u001b[0m\u001b[1;33m\u001b[0m\u001b[1;33m\u001b[0m\u001b[0m\n\u001b[0m",
      "\u001b[1;31mTypeError\u001b[0m: unsupported operand type(s) for +: 'NoneType' and 'NoneType'"
     ]
    }
   ],
   "source": [
    "None + None"
   ]
  },
  {
   "cell_type": "code",
   "execution_count": 62,
   "metadata": {},
   "outputs": [
    {
     "data": {
      "text/plain": [
       "61"
      ]
     },
     "execution_count": 62,
     "metadata": {},
     "output_type": "execute_result"
    }
   ],
   "source": [
    "5 + 7 * 8"
   ]
  },
  {
   "cell_type": "code",
   "execution_count": 63,
   "metadata": {},
   "outputs": [
    {
     "data": {
      "text/plain": [
       "[]"
      ]
     },
     "execution_count": 63,
     "metadata": {},
     "output_type": "execute_result"
    }
   ],
   "source": [
    "v = []\n",
    "l = v[:]\n",
    "l.append(1)\n",
    "v"
   ]
  },
  {
   "cell_type": "code",
   "execution_count": 64,
   "metadata": {},
   "outputs": [
    {
     "name": "stdout",
     "output_type": "stream",
     "text": [
      "-2\n",
      "-1\n",
      "0\n"
     ]
    }
   ],
   "source": [
    "for x in range(-2,1):\n",
    "    print(x)"
   ]
  },
  {
   "cell_type": "code",
   "execution_count": 66,
   "metadata": {},
   "outputs": [
    {
     "name": "stdout",
     "output_type": "stream",
     "text": [
      "1\n",
      "2\n",
      "4\n",
      "8\n"
     ]
    }
   ],
   "source": [
    "v = 1\n",
    "while v < 10:\n",
    "    print(v)\n",
    "    v = v << 1"
   ]
  },
  {
   "cell_type": "code",
   "execution_count": 69,
   "metadata": {},
   "outputs": [
    {
     "ename": "SyntaxError",
     "evalue": "'continue' not properly in loop (<ipython-input-69-4dfb7679b1d1>, line 6)",
     "output_type": "error",
     "traceback": [
      "\u001b[1;36m  File \u001b[1;32m\"<ipython-input-69-4dfb7679b1d1>\"\u001b[1;36m, line \u001b[1;32m6\u001b[0m\n\u001b[1;31mSyntaxError\u001b[0m\u001b[1;31m:\u001b[0m 'continue' not properly in loop\n"
     ]
    }
   ],
   "source": [
    "v = 1\n",
    "if v == 1:\n",
    "    continue\n",
    "    print('something')"
   ]
  },
  {
   "cell_type": "code",
   "execution_count": 73,
   "metadata": {},
   "outputs": [
    {
     "data": {
      "text/plain": [
       "0"
      ]
     },
     "execution_count": 73,
     "metadata": {},
     "output_type": "execute_result"
    }
   ],
   "source": [
    "0 or 0"
   ]
  },
  {
   "cell_type": "code",
   "execution_count": null,
   "metadata": {},
   "outputs": [],
   "source": []
  },
  {
   "cell_type": "code",
   "execution_count": null,
   "metadata": {},
   "outputs": [],
   "source": []
  }
 ],
 "metadata": {
  "kernelspec": {
   "display_name": "Python 3",
   "language": "python",
   "name": "python3"
  },
  "language_info": {
   "codemirror_mode": {
    "name": "ipython",
    "version": 3
   },
   "file_extension": ".py",
   "mimetype": "text/x-python",
   "name": "python",
   "nbconvert_exporter": "python",
   "pygments_lexer": "ipython3",
   "version": "3.7.6"
  }
 },
 "nbformat": 4,
 "nbformat_minor": 4
}
