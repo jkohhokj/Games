{
 "cells": [
  {
   "cell_type": "code",
   "execution_count": 3,
   "metadata": {},
   "outputs": [],
   "source": [
    "def GuessingGame():\n",
    "    guessed = False\n",
    "    import random\n",
    "    guess = []\n",
    "    x = int(input('Out of how many numbers do you want to guess?'))\n",
    "    number = random.randint(0,x)\n",
    "    guess.append(int(input('What is your guess?')))\n",
    "    if number in guess:\n",
    "        return 'You got it!'\n",
    "    while guessed == False:\n",
    "        guess.append(int(input('What is your guess?')))\n",
    "        if number in guess:\n",
    "            return 'You got it!'\n",
    "        elif abs(guess[-1] - number) < abs(guess[-2] - number):\n",
    "            print('Warm')\n",
    "        elif abs(guess[-1] - number) > abs(guess[-2] - number):\n",
    "            print('Cool')\n",
    "        else:\n",
    "            print('Neither')"
   ]
  },
  {
   "cell_type": "code",
   "execution_count": 6,
   "metadata": {},
   "outputs": [
    {
     "name": "stdout",
     "output_type": "stream",
     "text": [
      "Out of how many numbers do you want to guess?1000\n",
      "What is your guess?500\n",
      "What is your guess?600\n",
      "Warm\n",
      "What is your guess?700\n",
      "Warm\n",
      "What is your guess?800\n",
      "Warm\n",
      "What is your guess?900\n",
      "Cool\n",
      "What is your guess?850\n",
      "Warm\n",
      "What is your guess?825\n",
      "Warm\n",
      "What is your guess?810\n",
      "Warm\n",
      "What is your guess?805\n",
      "Warm\n",
      "What is your guess?803\n",
      "Warm\n",
      "What is your guess?801\n"
     ]
    },
    {
     "data": {
      "text/plain": [
       "'You got it!'"
      ]
     },
     "execution_count": 6,
     "metadata": {},
     "output_type": "execute_result"
    }
   ],
   "source": [
    "GuessingGame()"
   ]
  },
  {
   "cell_type": "code",
   "execution_count": null,
   "metadata": {},
   "outputs": [],
   "source": []
  }
 ],
 "metadata": {
  "kernelspec": {
   "display_name": "Python 3",
   "language": "python",
   "name": "python3"
  },
  "language_info": {
   "codemirror_mode": {
    "name": "ipython",
    "version": 3
   },
   "file_extension": ".py",
   "mimetype": "text/x-python",
   "name": "python",
   "nbconvert_exporter": "python",
   "pygments_lexer": "ipython3",
   "version": "3.7.6"
  }
 },
 "nbformat": 4,
 "nbformat_minor": 4
}
