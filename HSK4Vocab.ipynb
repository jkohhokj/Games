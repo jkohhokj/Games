{
 "cells": [
  {
   "cell_type": "code",
   "execution_count": null,
   "metadata": {},
   "outputs": [],
   "source": [
    "filepath name change"
   ]
  },
  {
   "cell_type": "code",
   "execution_count": 2,
   "metadata": {},
   "outputs": [],
   "source": [
    "import pandas as pd\n",
    "import numpy as np\n",
    "import matplotlib.pyplot as plt\n",
    "file = open('C:\\\\Users\\\\JaydenKoh\\\\Data models\\\\hsk4vocab.csv',\"r\",encoding = 'utf8')\n",
    "new_file = open('C:\\\\Users\\\\JaydenKoh\\\\Data models\\\\hsk4vocabfixedextra.csv',\"w\",encoding = 'utf8')\n",
    "line = file.readline()\n",
    "new_file.write(','.join(line.split()))\n",
    "for line in file:\n",
    "    try:\n",
    "        int(line[0])\n",
    "    except:\n",
    "        comma = 0\n",
    "        if ord(line[0]) > 13312:\n",
    "            counter = 0\n",
    "            if ord(line[0]) > 13312 and ord(line[1]) > 13312:\n",
    "                for charIndex in range(len(line)):\n",
    "                    if ord(line[charIndex]) > 13312 and line[charIndex-1] == ' ':\n",
    "                        new_file.write('\\n')\n",
    "                        new_file.write(line[charIndex])\n",
    "                        counter = 0\n",
    "                    elif line[charIndex] == ' ' and counter < 2:\n",
    "                        if comma < 1:\n",
    "                            comma += 1\n",
    "                            new_file.write(',')\n",
    "                        else:\n",
    "                            new_file.write(' ')\n",
    "                        counter += 1\n",
    "                    else:\n",
    "                        new_file.write(line[charIndex])      \n",
    "file.close()\n",
    "new_file.close()\n",
    "#            print(ord(line[0]))13312"
   ]
  },
  {
   "cell_type": "code",
   "execution_count": 3,
   "metadata": {},
   "outputs": [],
   "source": [
    "import pandas as pd\n",
    "import numpy as np\n",
    "import matplotlib.pyplot as plt\n",
    "file = open('C:\\\\Users\\\\JaydenKoh\\\\Data models\\\\hsk4vocabfixed.csv',\"r\",encoding = 'utf8')\n",
    "new_file = open('C:\\\\Users\\\\JaydenKoh\\\\Data models\\\\hsk4vocabfixedextra.csv',\"w\",encoding = 'utf8')\n",
    "line = file.readline()\n",
    "new_file.write(','.join(line.split()))\n",
    "for line in file:\n",
    "    comma = 0 \n",
    "    for charIndex in range(len(line)):\n",
    "        if line[charIndex] == ',':\n",
    "            comma += 1\n",
    "            if comma > 1:\n",
    "                new_file.write(' ')\n",
    "            else:\n",
    "                new_file.write(', ')\n",
    "        else:\n",
    "            new_file.write(line[charIndex])\n",
    "file.close()\n",
    "new_file.close()"
   ]
  },
  {
   "cell_type": "code",
   "execution_count": null,
   "metadata": {},
   "outputs": [],
   "source": []
  },
  {
   "cell_type": "code",
   "execution_count": 1,
   "metadata": {
    "scrolled": true
   },
   "outputs": [],
   "source": [
    "import random, pandas as pd, keyboard, time\n",
    "df = pd.read_csv('C:\\\\Users\\\\JaydenKoh\\\\Data models\\\\hsk4vocabfixed.csv')\n",
    "def randomLine():\n",
    "    line = random.randint(0,1169)\n",
    "    return df.iloc[:,0][line],df.iloc[:,1][line],df.iloc[:,2][line]\n",
    "def Learning():\n",
    "    score = [0,0,0] # right, wrong, total\n",
    "    running = True\n",
    "    while running:\n",
    "        if keyboard.is_pressed('q'):\n",
    "            line = randomLine()\n",
    "            print(line[0], score[2])\n",
    "            time.sleep(2)\n",
    "            print(line)\n",
    "            score[2] += 1\n",
    "        if keyboard.is_pressed('w'):\n",
    "            line = randomLine()\n",
    "            print(line[2], score[2])\n",
    "            time.sleep(5)\n",
    "            print(line)\n",
    "            score[2] += 1\n",
    "        if keyboard.is_pressed('e'):\n",
    "            line = randomLine()\n",
    "            print(line[2],line[1], score[2])\n",
    "            time.sleep(5)\n",
    "            print(line)\n",
    "            score[2] += 1\n",
    "        if keyboard.is_pressed('SHIFT'):\n",
    "            score[0] += 1\n",
    "            score[2] += 1\n",
    "        if keyboard.is_pressed('z'):\n",
    "            score[1] += 1\n",
    "            score[2] += 1\n",
    "        if keyboard.is_pressed('x'):\n",
    "            print(score)\n",
    "        if keyboard.is_pressed('ESCAPE'):\n",
    "            break\n",
    "        else:\n",
    "            pass\n",
    "        time.sleep(.09)"
   ]
  },
  {
   "cell_type": "code",
   "execution_count": null,
   "metadata": {},
   "outputs": [],
   "source": []
  },
  {
   "cell_type": "code",
   "execution_count": 2,
   "metadata": {
    "scrolled": false
   },
   "outputs": [
    {
     "name": "stdout",
     "output_type": "stream",
     "text": [
      "报名 0\n",
      "('报名', 'bàomíng', 'sign up')\n",
      "环境 1\n",
      "('环境', 'huánjìng', 'Environment ')\n",
      "皮肤 2\n",
      "('皮肤', 'pífū', 'skin')\n",
      "稍微 3\n",
      "('稍微', 'shāowēi', 'slightly ')\n",
      "很 4\n",
      "('很', 'hěn', 'very ')\n",
      "禁止 5\n",
      "('禁止', 'jìnzhǐ', 'prohibit')\n",
      "块 6\n",
      "('块', 'kuài', 'block ')\n",
      "刮风 7\n",
      "('刮风', 'guāfēng', 'Windy ')\n"
     ]
    }
   ],
   "source": [
    "Learning()"
   ]
  },
  {
   "cell_type": "raw",
   "metadata": {},
   "source": []
  },
  {
   "cell_type": "code",
   "execution_count": null,
   "metadata": {},
   "outputs": [],
   "source": []
  },
  {
   "cell_type": "code",
   "execution_count": null,
   "metadata": {},
   "outputs": [],
   "source": []
  },
  {
   "cell_type": "markdown",
   "metadata": {},
   "source": [
    "### "
   ]
  },
  {
   "cell_type": "code",
   "execution_count": 13,
   "metadata": {},
   "outputs": [
    {
     "ename": "TypeError",
     "evalue": "'str' object cannot be interpreted as an integer",
     "output_type": "error",
     "traceback": [
      "\u001b[1;31m---------------------------------------------------------------------------\u001b[0m",
      "\u001b[1;31mTypeError\u001b[0m                                 Traceback (most recent call last)",
      "\u001b[1;32m<ipython-input-13-466b1537cc62>\u001b[0m in \u001b[0;36m<module>\u001b[1;34m\u001b[0m\n\u001b[1;32m----> 1\u001b[1;33m \u001b[0mstr\u001b[0m\u001b[1;33m(\u001b[0m\u001b[0mlist\u001b[0m\u001b[1;33m(\u001b[0m\u001b[0mrange\u001b[0m\u001b[1;33m(\u001b[0m\u001b[0mstr\u001b[0m\u001b[1;33m(\u001b[0m\u001b[1;36m0\u001b[0m\u001b[1;33m)\u001b[0m\u001b[1;33m,\u001b[0m\u001b[1;36m10\u001b[0m\u001b[1;33m)\u001b[0m\u001b[1;33m)\u001b[0m\u001b[1;33m)\u001b[0m\u001b[1;33m\u001b[0m\u001b[1;33m\u001b[0m\u001b[0m\n\u001b[0m",
      "\u001b[1;31mTypeError\u001b[0m: 'str' object cannot be interpreted as an integer"
     ]
    }
   ],
   "source": [
    "str(list(range(str(0),10)))"
   ]
  },
  {
   "cell_type": "code",
   "execution_count": null,
   "metadata": {},
   "outputs": [],
   "source": []
  }
 ],
 "metadata": {
  "kernelspec": {
   "display_name": "Python 3",
   "language": "python",
   "name": "python3"
  },
  "language_info": {
   "codemirror_mode": {
    "name": "ipython",
    "version": 3
   },
   "file_extension": ".py",
   "mimetype": "text/x-python",
   "name": "python",
   "nbconvert_exporter": "python",
   "pygments_lexer": "ipython3",
   "version": "3.7.6"
  }
 },
 "nbformat": 4,
 "nbformat_minor": 4
}
